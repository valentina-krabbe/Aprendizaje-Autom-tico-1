{
  "nbformat": 4,
  "nbformat_minor": 0,
  "metadata": {
    "colab": {
      "provenance": []
    },
    "kernelspec": {
      "name": "python3",
      "display_name": "Python 3"
    },
    "language_info": {
      "name": "python"
    }
  },
  "cells": [
    {
      "cell_type": "markdown",
      "source": [
        "# TP3 AA1 Clasificación\n",
        "\n",
        "**Krabbe Valentina**"
      ],
      "metadata": {
        "id": "t4CxvZXx6Dmy"
      }
    },
    {
      "cell_type": "markdown",
      "source": [
        "## Indicaciones básicas\n",
        "\n",
        "0) Debe usar este notebook como template para su entrega. Haga una copia y comience a completar las consignas.\n",
        "\n",
        "1) Cada uno debe completar las consignas indicadas en este notebook.\n",
        "\n",
        "2)\n",
        "3) No pueden repetir el mismo dataset que ya haya definido un compañero.\n",
        "\n",
        "4) copias explícitas de secciones enteras del trabajo de otro será penalizado disminuyendo su puntuación.\n",
        "\n",
        "5) No se olvide de añadir las fuentes de inspiración de su código (blogs, prompts de chatgpt o similar).\n",
        "\n",
        "6) Además de todo el código que agregue, es importante que sepa interpretarlo. Agregue texto explicativo en cada sección. Esto le ayudará al momento del coloquio / parcial\n",
        "\n",
        "7) Revise las fecha límite de entrega de este trabajo"
      ],
      "metadata": {
        "id": "BSeucmV-KLmJ"
      }
    },
    {
      "cell_type": "markdown",
      "source": [
        "# ENTREGA"
      ],
      "metadata": {
        "id": "0qigDO5T90h-"
      }
    },
    {
      "cell_type": "markdown",
      "source": [
        "**LEA LAS INDICACIONES DE ENTREGA EN EL FORO DE LA TAREA**"
      ],
      "metadata": {
        "id": "N4Uno_w694De"
      }
    },
    {
      "cell_type": "markdown",
      "source": [
        "#**Tarea: Entrenamiento y evaluación de clasificadores**  \n",
        "\n",
        "**Objetivo**: Aplicar un modelo de clasificación a un dataset de su elección, procesar dicho dataset para poder usarlo para entrenamiento, indicar y compartir todos los recursos utilizados, evaluar su rendimiento.\n",
        "\n",
        "---\n",
        "\n",
        "# **Instrucciones**:\n",
        "\n",
        "#1. **Selección del Dataset**  \n",
        "   - Elijan un dataset de UCI ML Repository del siguiente enlace: https://archive.ics.uci.edu/datasets?Task=Classification&skip=0&take=10&sort=desc&orderBy=Relevance&search=\n",
        "   - Requisitos:  \n",
        "     - Debe tener al menos 4 variables.\n",
        "     - Revisar en el foro de la tarea que dicho dataset no haya sido ya elegido por otra persona.\n",
        "     - Postee en el foro de la tarea el dataset que eligió. Continue al siguiente punto.  \n",
        "\n"
      ],
      "metadata": {
        "id": "7WAej0Lx6D91"
      }
    },
    {
      "cell_type": "markdown",
      "source": [
        "## Resolución:"
      ],
      "metadata": {
        "id": "rTJxJxW28FMc"
      }
    },
    {
      "cell_type": "markdown",
      "source": [
        "###**Elegi el dataset Haberman's Survival**\n",
        "Que contiene casos de un estudio que se realizo en el Hospital Billings, de la Universidad de Chicago entre 1858 y 1970, donde se estudio la supervivencia de pacientes sometidos a cirugia por cancer de mama.\n",
        "\n"
      ],
      "metadata": {
        "id": "JvjM5Tf9_Q4f"
      }
    },
    {
      "cell_type": "markdown",
      "source": [
        "###**Variables**\n",
        ">Edad: del paciente al momento de la operacion (int)\n",
        "\n",
        ">Año: de la operacion del paciente (int)\n",
        "\n",
        ">Nro de de ganglios axilares positivos detectados (int)\n",
        "\n",
        ">Estado de supervivencia (atributo de clase):\n",
        "  - 1 = el paciente sobrevivió 5 años o más.\n",
        "  - 2 = el paciente falleció dentro de los 5 años."
      ],
      "metadata": {
        "id": "rsAS0TQANUOh"
      }
    },
    {
      "cell_type": "code",
      "source": [
        "import pandas as pd\n",
        "import numpy as np\n",
        "import matplotlib.pyplot as plt\n",
        "import seaborn as sns"
      ],
      "metadata": {
        "id": "gq7zciB78FvY"
      },
      "execution_count": 1,
      "outputs": []
    },
    {
      "cell_type": "code",
      "source": [
        "#Cargamos el dataset:\n",
        "link_dataset='https://raw.githubusercontent.com/valentina-krabbe/Aprendizaje-Autom-tico-1/refs/heads/main/haberman.data'\n",
        "columnas=['edad','año_operacion','nro_ganglios','estado_supervivencia']\n",
        "df=pd.read_csv(link_dataset,names=columnas)\n",
        "\n",
        "print(df.head())"
      ],
      "metadata": {
        "colab": {
          "base_uri": "https://localhost:8080/"
        },
        "id": "dzsy5ijSP4ou",
        "outputId": "cb8e1ea9-b457-4915-f16a-b5a0a5e8ccd0"
      },
      "execution_count": 2,
      "outputs": [
        {
          "output_type": "stream",
          "name": "stdout",
          "text": [
            "   edad  año_operacion  nro_ganglios  estado_supervivencia\n",
            "0    30             64             1                     1\n",
            "1    30             62             3                     1\n",
            "2    30             65             0                     1\n",
            "3    31             59             2                     1\n",
            "4    31             65             4                     1\n"
          ]
        }
      ]
    },
    {
      "cell_type": "markdown",
      "source": [
        "Antes de seguir vamos a hacer unos cambios en la columna del target (https://colab.research.google.com/drive/1O9C_2qcVSspm1K_DiVJNmeQHo7omWXhM#scrollTo=8XGV82DNgtNz&line=1&uniqifier=1) porque mas adelante me trajo problemas siendo que necesito que la clase 2 sea tomada como positiva (1) en ejercicios posteriores a voy a cambiar ahora. No traera ningun cambio en las demas columnas, solo que ahora identificaremos las clases como:[0=sobrevive, 1=no sobrevive]. Esto se lo plantie a ChatGPT para poder seguir rapido con el trabajo."
      ],
      "metadata": {
        "id": "8XGV82DNgtNz"
      }
    },
    {
      "cell_type": "code",
      "source": [
        "# Tipo de dato de la columna\n",
        "print(f\"Tipo de dato de 'estado_supervivencia': {df['estado_supervivencia'].dtype}\")"
      ],
      "metadata": {
        "colab": {
          "base_uri": "https://localhost:8080/"
        },
        "id": "6xmd7wbLhRxg",
        "outputId": "824a46c4-2283-4607-b390-6c02a8778900"
      },
      "execution_count": 3,
      "outputs": [
        {
          "output_type": "stream",
          "name": "stdout",
          "text": [
            "Tipo de dato de 'estado_supervivencia': int64\n"
          ]
        }
      ]
    },
    {
      "cell_type": "code",
      "source": [
        "# Valores únicos y su conteo\n",
        "# Esto es CRÍTICO para saber si realmente solo hay 1s y 2s, y si son numéricos.\n",
        "print(\"\\nValores únicos y su conteo ANTES de la transformación:\")\n",
        "print(df['estado_supervivencia'].value_counts())"
      ],
      "metadata": {
        "colab": {
          "base_uri": "https://localhost:8080/"
        },
        "id": "ish_rs1ZhYuE",
        "outputId": "41cba307-9456-4bf3-9ae2-8c2e637ad357"
      },
      "execution_count": 4,
      "outputs": [
        {
          "output_type": "stream",
          "name": "stdout",
          "text": [
            "\n",
            "Valores únicos y su conteo ANTES de la transformación:\n",
            "estado_supervivencia\n",
            "1    225\n",
            "2     81\n",
            "Name: count, dtype: int64\n"
          ]
        }
      ]
    },
    {
      "cell_type": "code",
      "source": [
        "# Si hay NaNs (valores faltantes) al inicio\n",
        "print(f\"\\nCantidad de NaNs ANTES de la transformación: {df['estado_supervivencia'].isnull().sum()}\")"
      ],
      "metadata": {
        "colab": {
          "base_uri": "https://localhost:8080/"
        },
        "id": "ZhVO4ZN1hihs",
        "outputId": "af72b854-762c-4dd6-d47a-b885452637df"
      },
      "execution_count": 5,
      "outputs": [
        {
          "output_type": "stream",
          "name": "stdout",
          "text": [
            "\n",
            "Cantidad de NaNs ANTES de la transformación: 0\n"
          ]
        }
      ]
    },
    {
      "cell_type": "code",
      "source": [
        "# Ahora, aplicamos la transformación.\n",
        "df['estado_supervivencia'] = np.where(df['estado_supervivencia'] == 1, 0,\n",
        "                                       np.where(df['estado_supervivencia'] == 2, 1,\n",
        "                                                df['estado_supervivencia']))"
      ],
      "metadata": {
        "id": "8RdHhJDqhy5p"
      },
      "execution_count": 6,
      "outputs": []
    },
    {
      "cell_type": "code",
      "source": [
        "print(\"\\n--- Verificación FINAL de 'estado_supervivencia' ---\")\n",
        "\n",
        "# Tipo de dato de la columna (debería ser numérico ahora)\n",
        "print(f\"Tipo de dato de 'estado_supervivencia' DESPUÉS de la transformación: {df['estado_supervivencia'].dtype}\")\n",
        "\n",
        "# Valores únicos y su conteo (deberían ser solo 0s y 1s)\n",
        "print(\"\\nValores únicos y su conteo DESPUÉS de la transformación:\")\n",
        "print(df['estado_supervivencia'].value_counts())\n"
      ],
      "metadata": {
        "colab": {
          "base_uri": "https://localhost:8080/"
        },
        "id": "10F5gRSIh6HF",
        "outputId": "846bb353-472f-4fb3-b0ef-e087fd9ec032"
      },
      "execution_count": 7,
      "outputs": [
        {
          "output_type": "stream",
          "name": "stdout",
          "text": [
            "\n",
            "--- Verificación FINAL de 'estado_supervivencia' ---\n",
            "Tipo de dato de 'estado_supervivencia' DESPUÉS de la transformación: int64\n",
            "\n",
            "Valores únicos y su conteo DESPUÉS de la transformación:\n",
            "estado_supervivencia\n",
            "0    225\n",
            "1     81\n",
            "Name: count, dtype: int64\n"
          ]
        }
      ]
    },
    {
      "cell_type": "markdown",
      "source": [
        "\n",
        "## 2. **Análisis exploratorio (previo al modelado)**  \n",
        "   - Describan las variables (media, distribución, outliers).  \n",
        "   - Visualizen:  \n",
        "     - Histogramas o boxplots para ver distribuciones.  \n",
        "     - Gráficos de dispersión (scatterplots) entre features y target.  \n",
        "   - Describan si observan o no relaciones entre algunas variables.  \n"
      ],
      "metadata": {
        "id": "UWnCaDQP7bbO"
      }
    },
    {
      "cell_type": "markdown",
      "source": [
        "###**Veamos sus estadisticas descriptivas**\n"
      ],
      "metadata": {
        "id": "lGBS5lxg8LqR"
      }
    },
    {
      "cell_type": "markdown",
      "source": [
        "MEAN:\n",
        "- La edad promedio de los pacientes es 52.\n",
        "- El año promedio de operaciones es 62. Antes dijimos que los estudios fueron realizados entre 1858 y 1970 lo que puede generar confusion porque si dice 62 podria ser 1862 o 1962. Pero vamos a interpretar todas as fechas como si tuviesen un 19 adelante, porque asi lo dice la informacion del dataset en:[ 2. Patient's year of operation (year - 1900, numerical)]\n",
        "\n",
        "- El promedio de nro de ganglios axilares positivos detectados es 4.\n",
        "- Y el promedio de estado de supervivencia es 1,26. Esto no nos indica algo explicitamente pero nos da una idea de como es la proprcion de las clases.\n",
        "\n",
        "STD (desviacion estandar):\n",
        "- La desviacion estandar es de 10.80 años, lo que nos indica que la edad de los pacientes esta bastante cerca de la media.\n",
        "\n",
        "-  En la columna 'año_operacion' tenemos una desviacion de 3.25 lo qe indica que la mayoria de las operaciones se realizaron en un periodo pequeño de tiempo.\n",
        "\n",
        "-  La desv.est de la columna 'nro_ganglios' es de 7.19 lo que indica un amplio rango en nro de ganglios en los pacientes. El panorama es bastante amplio teniendo en cuenta la media, pero si vemos la maxima vemos que no hay mucha diferencia.\n",
        "\n",
        "\n"
      ],
      "metadata": {
        "id": "HnsUpeRSTefv"
      }
    },
    {
      "cell_type": "markdown",
      "source": [
        "####**Imprimimos las estadisticas descriptivas**"
      ],
      "metadata": {
        "id": "vd_D_mqSo3JI"
      }
    },
    {
      "cell_type": "code",
      "source": [
        "df.describe()"
      ],
      "metadata": {
        "colab": {
          "base_uri": "https://localhost:8080/",
          "height": 300
        },
        "id": "kVJNIkMRTAae",
        "outputId": "d810b2cb-4f9c-45f8-e416-14978863a5a5"
      },
      "execution_count": 8,
      "outputs": [
        {
          "output_type": "execute_result",
          "data": {
            "text/plain": [
              "             edad  año_operacion  nro_ganglios  estado_supervivencia\n",
              "count  306.000000     306.000000    306.000000            306.000000\n",
              "mean    52.457516      62.852941      4.026144              0.264706\n",
              "std     10.803452       3.249405      7.189654              0.441899\n",
              "min     30.000000      58.000000      0.000000              0.000000\n",
              "25%     44.000000      60.000000      0.000000              0.000000\n",
              "50%     52.000000      63.000000      1.000000              0.000000\n",
              "75%     60.750000      65.750000      4.000000              1.000000\n",
              "max     83.000000      69.000000     52.000000              1.000000"
            ],
            "text/html": [
              "\n",
              "  <div id=\"df-04fb166e-2405-40bd-8425-e3f15a7a9903\" class=\"colab-df-container\">\n",
              "    <div>\n",
              "<style scoped>\n",
              "    .dataframe tbody tr th:only-of-type {\n",
              "        vertical-align: middle;\n",
              "    }\n",
              "\n",
              "    .dataframe tbody tr th {\n",
              "        vertical-align: top;\n",
              "    }\n",
              "\n",
              "    .dataframe thead th {\n",
              "        text-align: right;\n",
              "    }\n",
              "</style>\n",
              "<table border=\"1\" class=\"dataframe\">\n",
              "  <thead>\n",
              "    <tr style=\"text-align: right;\">\n",
              "      <th></th>\n",
              "      <th>edad</th>\n",
              "      <th>año_operacion</th>\n",
              "      <th>nro_ganglios</th>\n",
              "      <th>estado_supervivencia</th>\n",
              "    </tr>\n",
              "  </thead>\n",
              "  <tbody>\n",
              "    <tr>\n",
              "      <th>count</th>\n",
              "      <td>306.000000</td>\n",
              "      <td>306.000000</td>\n",
              "      <td>306.000000</td>\n",
              "      <td>306.000000</td>\n",
              "    </tr>\n",
              "    <tr>\n",
              "      <th>mean</th>\n",
              "      <td>52.457516</td>\n",
              "      <td>62.852941</td>\n",
              "      <td>4.026144</td>\n",
              "      <td>0.264706</td>\n",
              "    </tr>\n",
              "    <tr>\n",
              "      <th>std</th>\n",
              "      <td>10.803452</td>\n",
              "      <td>3.249405</td>\n",
              "      <td>7.189654</td>\n",
              "      <td>0.441899</td>\n",
              "    </tr>\n",
              "    <tr>\n",
              "      <th>min</th>\n",
              "      <td>30.000000</td>\n",
              "      <td>58.000000</td>\n",
              "      <td>0.000000</td>\n",
              "      <td>0.000000</td>\n",
              "    </tr>\n",
              "    <tr>\n",
              "      <th>25%</th>\n",
              "      <td>44.000000</td>\n",
              "      <td>60.000000</td>\n",
              "      <td>0.000000</td>\n",
              "      <td>0.000000</td>\n",
              "    </tr>\n",
              "    <tr>\n",
              "      <th>50%</th>\n",
              "      <td>52.000000</td>\n",
              "      <td>63.000000</td>\n",
              "      <td>1.000000</td>\n",
              "      <td>0.000000</td>\n",
              "    </tr>\n",
              "    <tr>\n",
              "      <th>75%</th>\n",
              "      <td>60.750000</td>\n",
              "      <td>65.750000</td>\n",
              "      <td>4.000000</td>\n",
              "      <td>1.000000</td>\n",
              "    </tr>\n",
              "    <tr>\n",
              "      <th>max</th>\n",
              "      <td>83.000000</td>\n",
              "      <td>69.000000</td>\n",
              "      <td>52.000000</td>\n",
              "      <td>1.000000</td>\n",
              "    </tr>\n",
              "  </tbody>\n",
              "</table>\n",
              "</div>\n",
              "    <div class=\"colab-df-buttons\">\n",
              "\n",
              "  <div class=\"colab-df-container\">\n",
              "    <button class=\"colab-df-convert\" onclick=\"convertToInteractive('df-04fb166e-2405-40bd-8425-e3f15a7a9903')\"\n",
              "            title=\"Convert this dataframe to an interactive table.\"\n",
              "            style=\"display:none;\">\n",
              "\n",
              "  <svg xmlns=\"http://www.w3.org/2000/svg\" height=\"24px\" viewBox=\"0 -960 960 960\">\n",
              "    <path d=\"M120-120v-720h720v720H120Zm60-500h600v-160H180v160Zm220 220h160v-160H400v160Zm0 220h160v-160H400v160ZM180-400h160v-160H180v160Zm440 0h160v-160H620v160ZM180-180h160v-160H180v160Zm440 0h160v-160H620v160Z\"/>\n",
              "  </svg>\n",
              "    </button>\n",
              "\n",
              "  <style>\n",
              "    .colab-df-container {\n",
              "      display:flex;\n",
              "      gap: 12px;\n",
              "    }\n",
              "\n",
              "    .colab-df-convert {\n",
              "      background-color: #E8F0FE;\n",
              "      border: none;\n",
              "      border-radius: 50%;\n",
              "      cursor: pointer;\n",
              "      display: none;\n",
              "      fill: #1967D2;\n",
              "      height: 32px;\n",
              "      padding: 0 0 0 0;\n",
              "      width: 32px;\n",
              "    }\n",
              "\n",
              "    .colab-df-convert:hover {\n",
              "      background-color: #E2EBFA;\n",
              "      box-shadow: 0px 1px 2px rgba(60, 64, 67, 0.3), 0px 1px 3px 1px rgba(60, 64, 67, 0.15);\n",
              "      fill: #174EA6;\n",
              "    }\n",
              "\n",
              "    .colab-df-buttons div {\n",
              "      margin-bottom: 4px;\n",
              "    }\n",
              "\n",
              "    [theme=dark] .colab-df-convert {\n",
              "      background-color: #3B4455;\n",
              "      fill: #D2E3FC;\n",
              "    }\n",
              "\n",
              "    [theme=dark] .colab-df-convert:hover {\n",
              "      background-color: #434B5C;\n",
              "      box-shadow: 0px 1px 3px 1px rgba(0, 0, 0, 0.15);\n",
              "      filter: drop-shadow(0px 1px 2px rgba(0, 0, 0, 0.3));\n",
              "      fill: #FFFFFF;\n",
              "    }\n",
              "  </style>\n",
              "\n",
              "    <script>\n",
              "      const buttonEl =\n",
              "        document.querySelector('#df-04fb166e-2405-40bd-8425-e3f15a7a9903 button.colab-df-convert');\n",
              "      buttonEl.style.display =\n",
              "        google.colab.kernel.accessAllowed ? 'block' : 'none';\n",
              "\n",
              "      async function convertToInteractive(key) {\n",
              "        const element = document.querySelector('#df-04fb166e-2405-40bd-8425-e3f15a7a9903');\n",
              "        const dataTable =\n",
              "          await google.colab.kernel.invokeFunction('convertToInteractive',\n",
              "                                                    [key], {});\n",
              "        if (!dataTable) return;\n",
              "\n",
              "        const docLinkHtml = 'Like what you see? Visit the ' +\n",
              "          '<a target=\"_blank\" href=https://colab.research.google.com/notebooks/data_table.ipynb>data table notebook</a>'\n",
              "          + ' to learn more about interactive tables.';\n",
              "        element.innerHTML = '';\n",
              "        dataTable['output_type'] = 'display_data';\n",
              "        await google.colab.output.renderOutput(dataTable, element);\n",
              "        const docLink = document.createElement('div');\n",
              "        docLink.innerHTML = docLinkHtml;\n",
              "        element.appendChild(docLink);\n",
              "      }\n",
              "    </script>\n",
              "  </div>\n",
              "\n",
              "\n",
              "    <div id=\"df-de3c5541-4721-475d-8279-240b65ea45b4\">\n",
              "      <button class=\"colab-df-quickchart\" onclick=\"quickchart('df-de3c5541-4721-475d-8279-240b65ea45b4')\"\n",
              "                title=\"Suggest charts\"\n",
              "                style=\"display:none;\">\n",
              "\n",
              "<svg xmlns=\"http://www.w3.org/2000/svg\" height=\"24px\"viewBox=\"0 0 24 24\"\n",
              "     width=\"24px\">\n",
              "    <g>\n",
              "        <path d=\"M19 3H5c-1.1 0-2 .9-2 2v14c0 1.1.9 2 2 2h14c1.1 0 2-.9 2-2V5c0-1.1-.9-2-2-2zM9 17H7v-7h2v7zm4 0h-2V7h2v10zm4 0h-2v-4h2v4z\"/>\n",
              "    </g>\n",
              "</svg>\n",
              "      </button>\n",
              "\n",
              "<style>\n",
              "  .colab-df-quickchart {\n",
              "      --bg-color: #E8F0FE;\n",
              "      --fill-color: #1967D2;\n",
              "      --hover-bg-color: #E2EBFA;\n",
              "      --hover-fill-color: #174EA6;\n",
              "      --disabled-fill-color: #AAA;\n",
              "      --disabled-bg-color: #DDD;\n",
              "  }\n",
              "\n",
              "  [theme=dark] .colab-df-quickchart {\n",
              "      --bg-color: #3B4455;\n",
              "      --fill-color: #D2E3FC;\n",
              "      --hover-bg-color: #434B5C;\n",
              "      --hover-fill-color: #FFFFFF;\n",
              "      --disabled-bg-color: #3B4455;\n",
              "      --disabled-fill-color: #666;\n",
              "  }\n",
              "\n",
              "  .colab-df-quickchart {\n",
              "    background-color: var(--bg-color);\n",
              "    border: none;\n",
              "    border-radius: 50%;\n",
              "    cursor: pointer;\n",
              "    display: none;\n",
              "    fill: var(--fill-color);\n",
              "    height: 32px;\n",
              "    padding: 0;\n",
              "    width: 32px;\n",
              "  }\n",
              "\n",
              "  .colab-df-quickchart:hover {\n",
              "    background-color: var(--hover-bg-color);\n",
              "    box-shadow: 0 1px 2px rgba(60, 64, 67, 0.3), 0 1px 3px 1px rgba(60, 64, 67, 0.15);\n",
              "    fill: var(--button-hover-fill-color);\n",
              "  }\n",
              "\n",
              "  .colab-df-quickchart-complete:disabled,\n",
              "  .colab-df-quickchart-complete:disabled:hover {\n",
              "    background-color: var(--disabled-bg-color);\n",
              "    fill: var(--disabled-fill-color);\n",
              "    box-shadow: none;\n",
              "  }\n",
              "\n",
              "  .colab-df-spinner {\n",
              "    border: 2px solid var(--fill-color);\n",
              "    border-color: transparent;\n",
              "    border-bottom-color: var(--fill-color);\n",
              "    animation:\n",
              "      spin 1s steps(1) infinite;\n",
              "  }\n",
              "\n",
              "  @keyframes spin {\n",
              "    0% {\n",
              "      border-color: transparent;\n",
              "      border-bottom-color: var(--fill-color);\n",
              "      border-left-color: var(--fill-color);\n",
              "    }\n",
              "    20% {\n",
              "      border-color: transparent;\n",
              "      border-left-color: var(--fill-color);\n",
              "      border-top-color: var(--fill-color);\n",
              "    }\n",
              "    30% {\n",
              "      border-color: transparent;\n",
              "      border-left-color: var(--fill-color);\n",
              "      border-top-color: var(--fill-color);\n",
              "      border-right-color: var(--fill-color);\n",
              "    }\n",
              "    40% {\n",
              "      border-color: transparent;\n",
              "      border-right-color: var(--fill-color);\n",
              "      border-top-color: var(--fill-color);\n",
              "    }\n",
              "    60% {\n",
              "      border-color: transparent;\n",
              "      border-right-color: var(--fill-color);\n",
              "    }\n",
              "    80% {\n",
              "      border-color: transparent;\n",
              "      border-right-color: var(--fill-color);\n",
              "      border-bottom-color: var(--fill-color);\n",
              "    }\n",
              "    90% {\n",
              "      border-color: transparent;\n",
              "      border-bottom-color: var(--fill-color);\n",
              "    }\n",
              "  }\n",
              "</style>\n",
              "\n",
              "      <script>\n",
              "        async function quickchart(key) {\n",
              "          const quickchartButtonEl =\n",
              "            document.querySelector('#' + key + ' button');\n",
              "          quickchartButtonEl.disabled = true;  // To prevent multiple clicks.\n",
              "          quickchartButtonEl.classList.add('colab-df-spinner');\n",
              "          try {\n",
              "            const charts = await google.colab.kernel.invokeFunction(\n",
              "                'suggestCharts', [key], {});\n",
              "          } catch (error) {\n",
              "            console.error('Error during call to suggestCharts:', error);\n",
              "          }\n",
              "          quickchartButtonEl.classList.remove('colab-df-spinner');\n",
              "          quickchartButtonEl.classList.add('colab-df-quickchart-complete');\n",
              "        }\n",
              "        (() => {\n",
              "          let quickchartButtonEl =\n",
              "            document.querySelector('#df-de3c5541-4721-475d-8279-240b65ea45b4 button');\n",
              "          quickchartButtonEl.style.display =\n",
              "            google.colab.kernel.accessAllowed ? 'block' : 'none';\n",
              "        })();\n",
              "      </script>\n",
              "    </div>\n",
              "\n",
              "    </div>\n",
              "  </div>\n"
            ],
            "application/vnd.google.colaboratory.intrinsic+json": {
              "type": "dataframe",
              "summary": "{\n  \"name\": \"df\",\n  \"rows\": 8,\n  \"fields\": [\n    {\n      \"column\": \"edad\",\n      \"properties\": {\n        \"dtype\": \"number\",\n        \"std\": 93.79475376745073,\n        \"min\": 10.80345234930328,\n        \"max\": 306.0,\n        \"num_unique_values\": 8,\n        \"samples\": [\n          52.45751633986928,\n          52.0,\n          306.0\n        ],\n        \"semantic_type\": \"\",\n        \"description\": \"\"\n      }\n    },\n    {\n      \"column\": \"a\\u00f1o_operacion\",\n      \"properties\": {\n        \"dtype\": \"number\",\n        \"std\": 91.39514455339513,\n        \"min\": 3.249404663223851,\n        \"max\": 306.0,\n        \"num_unique_values\": 8,\n        \"samples\": [\n          62.85294117647059,\n          63.0,\n          306.0\n        ],\n        \"semantic_type\": \"\",\n        \"description\": \"\"\n      }\n    },\n    {\n      \"column\": \"nro_ganglios\",\n      \"properties\": {\n        \"dtype\": \"number\",\n        \"std\": 106.18058612102219,\n        \"min\": 0.0,\n        \"max\": 306.0,\n        \"num_unique_values\": 7,\n        \"samples\": [\n          306.0,\n          4.026143790849673,\n          4.0\n        ],\n        \"semantic_type\": \"\",\n        \"description\": \"\"\n      }\n    },\n    {\n      \"column\": \"estado_supervivencia\",\n      \"properties\": {\n        \"dtype\": \"number\",\n        \"std\": 108.05143903822182,\n        \"min\": 0.0,\n        \"max\": 306.0,\n        \"num_unique_values\": 5,\n        \"samples\": [\n          0.2647058823529412,\n          1.0,\n          0.44189911885403554\n        ],\n        \"semantic_type\": \"\",\n        \"description\": \"\"\n      }\n    }\n  ]\n}"
            }
          },
          "metadata": {},
          "execution_count": 8
        }
      ]
    },
    {
      "cell_type": "markdown",
      "source": [
        "###**Histograma**"
      ],
      "metadata": {
        "id": "M8RY4kaOTcw0"
      }
    },
    {
      "cell_type": "code",
      "source": [
        "fig,axes=plt.subplots(nrows=2,ncols=2, figsize=(10,8))\n",
        "axes=axes.flatten()\n",
        "for i,col in enumerate(columnas):\n",
        "  sns.histplot(df[col],bins=30,kde=True,ax=axes[i])\n",
        "  axes[i].set_title(f'Distribucion de {col}')\n",
        "plt.tight_layout()\n",
        "plt.show()\n",
        "\n"
      ],
      "metadata": {
        "colab": {
          "base_uri": "https://localhost:8080/",
          "height": 520
        },
        "id": "Vav6JUZtbb0A",
        "outputId": "a42202db-dbf3-4398-aeeb-94ef25551d68"
      },
      "execution_count": 9,
      "outputs": [
        {
          "output_type": "display_data",
          "data": {
            "text/plain": [
              "<Figure size 1000x800 with 4 Axes>"
            ],
            "image/png": "[encoded data removed]"
          },
          "metadata": {}
        }
      ]
    },
    {
      "cell_type": "markdown",
      "source": [
        "**Gráfico de distribución de edad**\n",
        "\n",
        "Podemos ver cómo la mayoría de los pacientes tienen entre 40 y 70 años con un pico entre los 50-60. El gráfico tiene forma de campana, por lo que se ve que las personas menores a 30 años y por encima de los 80 son escasas lo que, sugiere que la distribución esperada es para una población adulta, no joven ni anciana.\n",
        "\n",
        "\n",
        "**Gráfico Distribución de año_operación**\n",
        "\n",
        "La forma de este gráfico es bastante uniforme, no se ve una forma clara de campana, hay algunos picos. El gráfico nos dice que las operaciones se realizaron principalmente entre el año 1960 y el 1966, con algunos picos en el año 1958 y 1964, no hay un año central donde se concentren la mayoría de las operaciones.\n",
        "\n",
        "\n",
        "**Gráfico de distribución del nro_ganglios**\n",
        "\n",
        "Podemos ver una distribución cesgada a la derecha, donde mientras más avanzamos, podemos notar como el número de ganglios disminuye.\n",
        "\n",
        "Lo que indica el gráfico es que la gran mayoría de los pacientes tiene un número muy bajo de ganglios axilares positivos entre 0-10 se concentran, y hay algunos que llegan incluso hasta los 50 ganglios. Acá más adelante vamos a poder ver los outliers en el boxplot, por la naturaleza de los datos y su distribución con puntos muy extremos.\n",
        "\n",
        "**Gráfico de distribución de estado_supervivencia**\n",
        "\n",
        "Podemos ver dos barras, ya que existen dos clases(0 y 1). La clase 0 representa a las personas que lograron sobrevivir más de cinco años y la clase 1 los que no sobrevivieron más de cinco años después de la operación. Podemos ver cómo la clase minoritari es la número 1, que son los que no sobrevivían.\n",
        "\n",
        "Esto más adelante, nos va a hacer notar un desbalance en los datos reflejándose en los resultados del modelo."
      ],
      "metadata": {
        "id": "zfwXW8rHBweK"
      }
    },
    {
      "cell_type": "markdown",
      "source": [
        "###**Detección de outliers mediante Boxplot**"
      ],
      "metadata": {
        "id": "PC0aXml1f0wZ"
      }
    },
    {
      "cell_type": "code",
      "source": [
        "fig,axes=plt.subplots(nrows=2,ncols=2, figsize=(10,8))\n",
        "axes=axes.flatten()\n",
        "for i,col in enumerate(columnas):\n",
        "  sns.boxplot(df[col],ax=axes[i])\n",
        "  axes[i].set_title(f'Boxplot de {col}')\n",
        "plt.tight_layout()\n",
        "plt.show()"
      ],
      "metadata": {
        "colab": {
          "base_uri": "https://localhost:8080/",
          "height": 520
        },
        "id": "dAg-vmzof641",
        "outputId": "48a31452-1965-4d33-951d-4738d1d6fdc6"
      },
      "execution_count": 10,
      "outputs": [
        {
          "output_type": "display_data",
          "data": {
            "text/plain": [
              "<Figure size 1000x800 with 4 Axes>"
            ],
            "image/png": "[encoded data removed]"
          },
          "metadata": {}
        }
      ]
    },
    {
      "cell_type": "markdown",
      "source": [
        "**Boxplot de edad**\n",
        "\n",
        "La caja principal del boxplot está centrada aproximadamente entre los 45 y 60 años, la mediana está alrededor de los 52/53. Podemos ver como los bigotes se extienden de manera relativamente simétrica, lo que sugiere una distribución bastante simétrica. No se obervan outliers.\n",
        "\n",
        "**Boxplot de año operación**\n",
        "\n",
        "En este caso la caja se encuentra aproximadamente entre entre el año 1960 y el 1966,. La mediana está aproximadamente en el año 1963 no se observan puntos aislados.\n",
        "\n",
        "La distribucion de los bigotes es bastante simétrica, tampoco no se observan puntos aislados\n",
        "\n",
        "**Boxplot de Numero de ganglios**\n",
        "\n",
        "La caja está muy comprimida y muy cerca de cero (entre 0-5), confirmando que la gran mayoría de los pacientes tienen cero o muy pocos ganglios positivos..\n",
        "\n",
        "Como vimos en el histograma este gráfico muestra gran cantidad de outliers por encima del bigote superior, representando a lo pacientes con números de ganglios positivos significativamente más altos que la mayoría de la población\n",
        "\n",
        "**Boxplot de estado supervivencia**\n",
        "\n",
        "Es una caja sólida que se extiende de cero a uno. Esto es porque respresentan una variable binaria."
      ],
      "metadata": {
        "id": "ZcxLc5xEBtqH"
      }
    },
    {
      "cell_type": "markdown",
      "source": [
        "###**Grafico de Dispersión**"
      ],
      "metadata": {
        "id": "DuT4HNhijxWm"
      }
    },
    {
      "cell_type": "code",
      "source": [
        "fig,axes=plt.subplots(nrows=2,ncols=2, figsize=(10,8))\n",
        "axes=axes.flatten()\n",
        "for i,col in enumerate(columnas):\n",
        "  sns.scatterplot(x=col,y='estado_supervivencia',data=df,ax=axes[i])\n",
        "  axes[i].set_title(f'Dispersión entre {col} y estado de supervivencia')\n",
        "plt.tight_layout()\n",
        "plt.show()"
      ],
      "metadata": {
        "colab": {
          "base_uri": "https://localhost:8080/",
          "height": 491
        },
        "id": "NE5tkuAXj2wR",
        "outputId": "d5f72f0d-f36b-4ca0-c701-cd61a1d7d171"
      },
      "execution_count": 11,
      "outputs": [
        {
          "output_type": "display_data",
          "data": {
            "text/plain": [
              "<Figure size 1000x800 with 4 Axes>"
            ],
            "image/png": "[encoded data removed]"
          },
          "metadata": {}
        }
      ]
    },
    {
      "cell_type": "markdown",
      "source": [
        "####**Explicacion de los graficos de dispersion**\n",
        "\n",
        "**edad vs estado_supervivencia:**\n",
        "En el eje X vemos la edad del paciente al recibir la operacion y en el eje Y su estado de supervivencia (1,2)\n",
        "\n",
        "Podemos ver que los puntos se dispersan bastante en el eje X, significa que en cuanto a la edad del paceinte no podemos ver que los datos formen un patron. Tanto pacientes jovenes como adultos forman parte de la clase 1 y 2.\n",
        "\n",
        "\n",
        "**año_operacion vs estado_supervivencia:**\n",
        "En el eje X vemos el año en el que el paciente recibio la operacion y en el eje Y su estado de supervivencia (1,2).\n",
        "\n",
        "Al igual que en el grafico anterior se ve como los puntos se superponen en la clase 1 y 2, osea que no hay un año que predomine en las clases a simple vista.\n",
        "\n",
        "**nro_ganglios vs estado_supervivencia:**\n",
        "En el eje X vemos el Nro de de ganglios axilares positivos que se le detectaron y en el eje Y su estado de supervivencia (1,2)\n",
        "\n",
        "Bueno aca podemos ver datos un poco mas diferentes entre 1 y 2, hay una clara concentracion de puntos del lado izquierdo del grafico en los numeros mas bajos de ganglios en la clase 1 y 2. Pero mientras mas nro de ganglios tiene el paciente podemos ver como aumentas lo puntos en la clase 2 (muere antes de los 5 años) aunque son pocos los puntos podemos ver una de las primeras diferencias en los datos.\n"
      ],
      "metadata": {
        "id": "Wg358GtalmeO"
      }
    },
    {
      "cell_type": "markdown",
      "source": [
        "## 3. **Preprocesamiento**  \n",
        "   - Limpieza: Manejen missing values (eliminar, imputar) y outliers (si es necesario).  \n",
        "   - Limpieza: indique cuáles features descarta. Justifique.\n",
        "   - Indique si usará o no variables categóricas. Justifique. Realice su preprocesamiento adeucado.\n",
        "   - Otros pasos que crea conveniente para pre-procesar el dataset (mencione y explique)"
      ],
      "metadata": {
        "id": "A1Ajkh2O70cd"
      }
    },
    {
      "cell_type": "markdown",
      "source": [
        "Detalla las caracteristicas del dataset como nro de variables, nro de filas o instancias, si el problema es clasificacion binaria o multiclase, y otras características que crea conveniente.\n",
        "\n",
        "Realice la división de datos (entrenamiento / testeo / CV según corresponda)"
      ],
      "metadata": {
        "id": "JAUnqCCZScjP"
      }
    },
    {
      "cell_type": "markdown",
      "source": [
        "## Resolución:"
      ],
      "metadata": {
        "id": "28o4EfDd_WQg"
      }
    },
    {
      "cell_type": "markdown",
      "source": [
        "###**Missing values**"
      ],
      "metadata": {
        "id": "a7qdTaxy_WQg"
      }
    },
    {
      "cell_type": "code",
      "source": [
        "df.isnull().sum() #Mostramos el numero de valores nulos"
      ],
      "metadata": {
        "id": "On_Ef-tt_WQi",
        "colab": {
          "base_uri": "https://localhost:8080/",
          "height": 209
        },
        "outputId": "2f76ffa8-28f5-4558-865d-ecc94b83264d"
      },
      "execution_count": 12,
      "outputs": [
        {
          "output_type": "execute_result",
          "data": {
            "text/plain": [
              "edad                    0\n",
              "año_operacion           0\n",
              "nro_ganglios            0\n",
              "estado_supervivencia    0\n",
              "dtype: int64"
            ],
            "text/html": [
              "<div>\n",
              "<style scoped>\n",
              "    .dataframe tbody tr th:only-of-type {\n",
              "        vertical-align: middle;\n",
              "    }\n",
              "\n",
              "    .dataframe tbody tr th {\n",
              "        vertical-align: top;\n",
              "    }\n",
              "\n",
              "    .dataframe thead th {\n",
              "        text-align: right;\n",
              "    }\n",
              "</style>\n",
              "<table border=\"1\" class=\"dataframe\">\n",
              "  <thead>\n",
              "    <tr style=\"text-align: right;\">\n",
              "      <th></th>\n",
              "      <th>0</th>\n",
              "    </tr>\n",
              "  </thead>\n",
              "  <tbody>\n",
              "    <tr>\n",
              "      <th>edad</th>\n",
              "      <td>0</td>\n",
              "    </tr>\n",
              "    <tr>\n",
              "      <th>año_operacion</th>\n",
              "      <td>0</td>\n",
              "    </tr>\n",
              "    <tr>\n",
              "      <th>nro_ganglios</th>\n",
              "      <td>0</td>\n",
              "    </tr>\n",
              "    <tr>\n",
              "      <th>estado_supervivencia</th>\n",
              "      <td>0</td>\n",
              "    </tr>\n",
              "  </tbody>\n",
              "</table>\n",
              "</div><br><label><b>dtype:</b> int64</label>"
            ]
          },
          "metadata": {},
          "execution_count": 12
        }
      ]
    },
    {
      "cell_type": "markdown",
      "source": [
        "###**Manejo de Outliers**\n",
        "\n",
        "Normalizamos usando StandarScaler\n"
      ],
      "metadata": {
        "id": "qYg_F-1e_Vro"
      }
    },
    {
      "cell_type": "code",
      "source": [
        "from sklearn.model_selection import train_test_split\n",
        "from sklearn.preprocessing import StandardScaler\n",
        "\n",
        "#Separamos los features y el target\n",
        "X=df.drop('estado_supervivencia', axis=1) #features\n",
        "y=df['estado_supervivencia'] #target\n",
        "\n",
        "#Dividimos el conjunto de entrenamiento y el de testeo en 80% y 20%- Stratify sirve para asegurar que\n",
        "#tanto el conjunto de entrenamiento como el de testeo contengan ejemplos de pacientes que fallecieron y en una proporcion representativa, ya que la clase 2 es menor a la 1.\n",
        "X_train, X_test, y_train, y_test = train_test_split(X, y, test_size=0.2, random_state=4,stratify=y)\n",
        "\n",
        "#Escalamos los datos con StandardScaler\n",
        "scaler=StandardScaler()\n",
        "X_train_scaled=scaler.fit_transform(X_train)\n",
        "X_test_scaled=scaler.transform(X_test)"
      ],
      "metadata": {
        "id": "9KJo1rKe768q"
      },
      "execution_count": 13,
      "outputs": []
    },
    {
      "cell_type": "markdown",
      "source": [
        "El dataset tiene 206 instancias, 3 variables caracteristica [edad, año_operacion, nro_ganglios] y una variable objetivo que es [estado_supervivencia'] todas de tipo int. Presenta una clasificacion binaria, ya que target tiene dos posibles clases o valores [1,2]"
      ],
      "metadata": {
        "id": "fnFpdsufSr2c"
      }
    },
    {
      "cell_type": "markdown",
      "source": [
        "\n",
        "\n",
        "\n",
        "## 4. **Clasificación con logistic regression**  \n",
        "En este apartado entrenará un clasificador con la librería sklearn usando logistic regresion.\n",
        "   "
      ],
      "metadata": {
        "id": "8z3BaKBi70w2"
      }
    },
    {
      "cell_type": "markdown",
      "source": [
        "### 4.1 Entrenamiento y evaluación"
      ],
      "metadata": {
        "id": "rikY9bTOZIdR"
      }
    },
    {
      "cell_type": "code",
      "source": [
        "#importamos librerias necesarias\n",
        "from sklearn.linear_model import LogisticRegression\n",
        "from sklearn.metrics import confusion_matrix, accuracy_score, precision_score, recall_score, f1_score\n"
      ],
      "metadata": {
        "id": "quSKPa2OSPEn"
      },
      "execution_count": 14,
      "outputs": []
    },
    {
      "cell_type": "code",
      "source": [
        "#Creamos el clasificador\n",
        "clf=LogisticRegression()\n",
        "\n",
        "#Entrenamos el clasificador\n",
        "clf.fit(X_train_scaled,y_train)\n",
        "\n",
        "#Hacemos predicciones\n",
        "y_pred_lr=clf.predict(X_test_scaled)\n"
      ],
      "metadata": {
        "id": "0rcIcXKSUJPh"
      },
      "execution_count": 15,
      "outputs": []
    },
    {
      "cell_type": "markdown",
      "source": [
        "### 4.2 Métricas de evaluación"
      ],
      "metadata": {
        "id": "6ze4WFvdZJeS"
      }
    },
    {
      "cell_type": "markdown",
      "source": [
        "Muestre el desempeño en el conjunto de datos de entrenamiento y testeo.\n",
        "Mencione las métricas utilizadas. No se olvide de mostrar la matriz de confusión.\n",
        "Explique los resultados obtenidos."
      ],
      "metadata": {
        "id": "LudCJRf7TLnn"
      }
    },
    {
      "cell_type": "markdown",
      "source": [
        "###**Generamos la matriz de confusion**"
      ],
      "metadata": {
        "id": "A4WRT5B6Ujcn"
      }
    },
    {
      "cell_type": "code",
      "source": [
        "#generamos la matriz de confusion\n",
        "conf_matrix=confusion_matrix(y_test,y_pred_lr)\n",
        "\n",
        "#la imprimimos\n",
        "print('MATRIZ DE CONFUSION:')\n",
        "print(conf_matrix)\n",
        "\n",
        "#calculamos las metricas\n",
        "accuracy=accuracy_score(y_test,y_pred_lr)\n",
        "precision=precision_score(y_test,y_pred_lr)\n",
        "recall=recall_score(y_test,y_pred_lr)\n",
        "f1=f1_score(y_test,y_pred_lr)\n",
        "\n",
        "#las imprimimos\n",
        "print('-----------------------------------------------------------------')\n",
        "print('METRICAS:')\n",
        "print(f'Accuracy: {accuracy}')\n",
        "print(f'Precision: {precision}')\n",
        "print(f'Recall: {recall}')\n",
        "print(f'F1: {f1}')"
      ],
      "metadata": {
        "colab": {
          "base_uri": "https://localhost:8080/"
        },
        "id": "wm2_TGfzUxa8",
        "outputId": "da07326d-4f97-420c-a856-d66f5e754caf"
      },
      "execution_count": 16,
      "outputs": [
        {
          "output_type": "stream",
          "name": "stdout",
          "text": [
            "MATRIZ DE CONFUSION:\n",
            "[[42  4]\n",
            " [12  4]]\n",
            "-----------------------------------------------------------------\n",
            "METRICAS:\n",
            "Accuracy: 0.7419354838709677\n",
            "Precision: 0.5\n",
            "Recall: 0.25\n",
            "F1: 0.3333333333333333\n"
          ]
        }
      ]
    },
    {
      "cell_type": "markdown",
      "source": [
        "###**Explicacion de la matriz y metricas obtenidas**\n",
        "\n",
        "La matriz nos ayuda a comparar las predicciones hechas por el modelo con los valores reales en un conjunto de prueba.\n",
        "\n",
        "**Verdaderos Positivos (VP):**\n",
        "Son los casos en los que el modelo predijo correctamente la clase positiva.\n",
        "\n",
        "**Falsos Positivos (FP):**\n",
        " Son los casos en los que el modelo predijo la clase positiva incorrectamente (cuando en realidad era negativa).\n",
        "\n",
        "**Verdaderos Negativos (VN):**\n",
        "Son los casos en los que el modelo predijo correctamente la clase negativa.\n",
        "\n",
        "**Falsos Negativos (FN):**\n",
        "Son los casos en los que el modelo predijo la clase negativa incorrectamente (cuando en realidad era positiva)\n",
        "\n",
        "-----------------------------------\n",
        "*Clase 0 (sobrevivio)=Clase negativa*\n",
        "\n",
        "*Clase 1 (fallecio)=Clase positiva*\n",
        "\n",
        "------------------------------------\n",
        "\n",
        "**EN NUESTRA MATRIZ**\n",
        "\n",
        ">[[ 42 4]\n",
        "\n",
        ">[ 12 4]]\n",
        "\n",
        "\n",
        "- 4 verdaderos positivos: el modelo predijo bien que 4 pacientes fallecerian\n",
        "\n",
        "- 12 falsos negativos: el modelo predijo que 12 sobrevivirian, pero no lo hicieron.\n",
        "\n",
        "- 4 falsos positivo: el modelo predijo que 4 paciente fallecerian pero no lo hicieron.\n",
        "\n",
        "- 42 verdaderos negativos: el modelo predijo que 42 pacientes sobrevivirian y lo hicieron.\n",
        "\n",
        "\n",
        "-----------------------------------------\n",
        "\n",
        "**METRICAS:**\n",
        "\n",
        ">Accuracy: 0.7419354838709677\n",
        "El obtuvo una exactitud de 74.19% (tanto de muerte como sobrevivencia), que es un numero bueno pero esta metrica no cuenta toda la historia si tenemos desequilibrio entre las clases (hay mas sobrevivientes que fallecidos). Es importante tener en cuenta que este resultado se debe en su mayoria al desbalance, el modelo puede favorecer a la calse mayoritaria que son los que viven.\n",
        "\n",
        ">Precision: 0.5\n",
        "Mide cuantas veces tuvo razon el modelo al intentar predecir que alguien moriria. Osea que el modelo tuvo razon el 50% de las veces, lo que no es muy bueno. Esto puede suceder porque el modelo no tiene tanta informacion en los datos para distinguir a quienes mueren y quienes sobreviven.\n",
        "\n",
        ">Recall: 0.25\n",
        "De todos los casos que realmente no sobrevivieron, el modelo identifico correctamente el 25%. Este es el valor mas grave hasta ahora, ya que el modelo falla en reconocer a la mayoria de casos de muerte, prefiere asumir que el paciente sobrevive. Esto se puede deber a que hay muy pocas filas donde la clase es=no sobrevive en el conjunto de entrenamiento, entonces el modelo no generaliza bien la clase.\n",
        "\n",
        "\n",
        ">F1 score: 0.3333333333333333:\n",
        "Es la medida armonica entre presicion y recall. Este valor nos indica que el modelo tiene un desempeño general bajo para lograr predecir la clase 1.\n",
        "\n",
        "Ya vimos que el modelo tiene un Recall bajo, lo que indica que no sabe decidir bien cuando un paciente va a morir. Y una presicion media, un 50-50 de que acerte si un paciente sobrevive o no.\n",
        "\n",
        "\n",
        "Estos resultados se pueden deber a:\n",
        "- DESBALANCE DE LAS CLASES\n",
        "- POCA INFORMACION O VARIABLES CON RELACION DEBIL PARA LA PREDICCION\n",
        "- EL MODELO NO ES EL ADECUADO PARA ESTE CONJUNTO EN PARTICULAR (VEREMOS OTRO MODELO EN LE SIGUIENTE PUNTO)\n",
        "- POCOS DATOS DE LA CLASE 1 (no sobrevive).\n",
        "\n",
        "\n"
      ],
      "metadata": {
        "id": "AveJLh0kaaCc"
      }
    },
    {
      "cell_type": "markdown",
      "source": [
        "## 5- **Otro clasificador**"
      ],
      "metadata": {
        "id": "2jeYUeYRUCpK"
      }
    },
    {
      "cell_type": "markdown",
      "source": [
        "### 5.1 Elija otro modelo para entrenar un clasificador\n",
        "\n",
        "Elija alguno de los modelos vistos: kNN, SVM o MLP para entrenar un clasificador usando los parámetros por defecto de sklearn.\n",
        "\n",
        "Justifique su elección."
      ],
      "metadata": {
        "id": "T_EtuciQVCZ4"
      }
    },
    {
      "cell_type": "markdown",
      "source": [
        "### 5.2 Entrenamiento del modelo."
      ],
      "metadata": {
        "id": "vWvwDaJ_VdR2"
      }
    },
    {
      "cell_type": "markdown",
      "source": [
        "Voy a elegir el modelo KNN, funciona bien con datasets pequeños como es mi caso.\n",
        "\n",
        "Quiero aclarar que la forma en la que siempre calcule el numero de k optimo fue con el **grafico del codo**, entonces opte por consultar a Gemini cual era la mejor opcion para conseguir el numero de 'k' dandole ademas el contexto del dataset"
      ],
      "metadata": {
        "id": "asJ6jL09Tvvm"
      }
    },
    {
      "cell_type": "code",
      "source": [
        "#Importamos librerias necesarias\n",
        "from sklearn.neighbors import KNeighborsClassifier\n",
        "from sklearn.preprocessing import StandardScaler\n",
        "from sklearn.model_selection import GridSearchCV, StratifiedKFold\n",
        "from sklearn.metrics import accuracy_score, f1_score, classification_report\n",
        "\n",
        "#Escalado de características, aunque ya se halla hecho, lo mostramos para ver todo el proceso\n",
        "scaler = StandardScaler()\n",
        "\n",
        "# Ajustamos el escalador solo en el conjunto de entrenamiento y transformamos ambos conjuntos.\n",
        "# Es vital no \"aprender\" de los datos de prueba para evitar fuga de información.\n",
        "X_train_scaled = scaler.fit_transform(X_train)\n",
        "X_test_scaled = scaler.transform(X_test)"
      ],
      "metadata": {
        "id": "DW_1n6Mkj3LW"
      },
      "execution_count": 17,
      "outputs": []
    },
    {
      "cell_type": "markdown",
      "source": [
        "####Para comenzar use este prompt en Gemini para elegir el numero optimo de K de la manera mas eficiente teniendo en cuenta el contexto de mi dataset:\n",
        "_necesito calcular el numero optimo de k para trabajar un modelo KNN sobre un dataset que tiene 64 filas, 4 columnas donde una de ellas contiene los dos tipos de clases_\n",
        "\n",
        "Me sugirio calcular K usando **'Validacion Cruzada Estratificada (StratifiedKFold) con GridSearchCV':**\n",
        "\n",
        "_RESPUESTA:_\n",
        "Este sigue siendo el método más robusto. La clave es la \"estratificación\", que asegura que la proporción de clases se mantenga en cada división (fold) de la validación cruzada.\n",
        "\n",
        "- ¿Por qué StratifiedKFold? En datasets pequeños, es vital que cada subconjunto (fold) tenga una representación proporcional de todas tus clases. Si no uso estratificación, un fold podría terminar con solo una clase, lo que causaría errores o una evaluación sesgada.\n",
        "- Aumenta el número de cv (folds): Para datasets pequeños, a veces se sugiere usar más folds (ej. cv=5 o cv=10, o incluso LeaveOneOut si el dataset es muy pequeño, aunque este último es computacionalmente costoso). Más folds significan que el modelo se entrena y evalúa más veces en diferentes subconjuntos, lo que da una estimación más estable del rendimiento."
      ],
      "metadata": {
        "id": "K_fPLNKdbdvM"
      }
    },
    {
      "cell_type": "markdown",
      "source": [
        "####**Investigacion**\n",
        "\n",
        "La validación cruzada es una técnica fundamental en ML para evaluar la performance de un modelo predictivo de manera más robusta y confiable que si solo se utilizara una única división de los datos en conjuntos de entrenamiento y prueba.\n",
        "\n",
        "Aborda estos problemas dividiendo el dataset original en múltiples subconjuntos (llamados \"folds\" o \"pliegues\"). El proceso se repite varias veces, donde el modelo se entrena y evalúa en diferentes combinaciones de estos folds.\n",
        "\n",
        "En lugar de dividir tus datos una sola vez en entrenamiento y prueba, la validación cruzada los divide varias veces de diferentes maneras.\n",
        "\n",
        "Que sea **estratificada** asegura que cada \"fold\" (tanto de entrenamiento como de prueba) mantenga la misma proporción de clases que el dataset original.\n",
        "\n",
        "Este enfoque puede ser computacionalmente costoso, pero no desperdicia demasiados datos, lo cual es una ventaja importante en problemas como la inferencia inversa, donde el número de muestras es muy pequeño."
      ],
      "metadata": {
        "id": "0oe85hCAvx1d"
      }
    },
    {
      "cell_type": "code",
      "source": [
        "#ENCONTRAR EL K ÓPTIMO CON GRIDSEARCHCV Y VALIDACIÓN CRUZADA ESTRATIFICADA\n",
        "# Definimos un rango de valores de K a probar.\n",
        "# Para un dataset de 64 filas (aprox. 51 en X_train), un K muy grande no es ideal.\n",
        "# Nos aseguramos de incluir solo valores impares para K (para evitar empates en la votación).\n",
        "# El límite superior de K se establece como la mitad del tamaño de X_train o 31, lo que sea menor.\n",
        "max_k_in_range = min(len(X_train) // 2, 31)\n",
        "k_range = list(range(1, max_k_in_range + 1, 2))\n",
        "\n",
        "if not k_range or (1 not in k_range and len(X_train) > 0):\n",
        "    k_range = sorted(list(set(k_range + [1])))\n",
        "\n",
        "print(f\"Valores de K a probar: {k_range}\")\n",
        "\n",
        "# Configuramos los parámetros para GridSearchCV.\n",
        "param_grid = {'n_neighbors': k_range}\n",
        "\n",
        "# Configuramos la validación cruzada estratificada.\n",
        "# `n_splits=5` es un buen equilibrio para tu tamaño de dataset.\n",
        "# `shuffle=True` y `random_state` aseguran reproducibilidad de los folds.\n",
        "cv_stratified = StratifiedKFold(n_splits=5, shuffle=True, random_state=42)\n",
        "\n",
        "# Creamos una instancia del clasificador KNN.\n",
        "knn_base = KNeighborsClassifier()\n",
        "\n",
        "# Configuramos GridSearchCV.\n",
        "# `scoring='f1_weighted'` es una métrica robusta para clases posiblemente desequilibradas.\n",
        "# `n_jobs=-1` usa todos los núcleos de tu CPU para acelerar el proceso.\n",
        "grid_search = GridSearchCV(knn_base, param_grid, cv=cv_stratified, scoring='f1_weighted', verbose=1, n_jobs=-1)\n",
        "\n",
        "# Entrenamos GridSearchCV con los datos de entrenamiento ESCALADOS.\n",
        "grid_search.fit(X_train_scaled, y_train)\n",
        "\n",
        "# Obtenemos el mejor valor de K encontrado.\n",
        "best_k = grid_search.best_params_['n_neighbors']\n",
        "print(f\"\\n¡El MEJOR valor de K encontrado por GridSearchCV es: {best_k}!\")\n",
        "best_k=19\n",
        "# Obtenemos la mejor puntuación de validación cruzada para ese K.\n",
        "best_cv_score = grid_search.best_score_\n",
        "print(f\"La mejor puntuación de validación cruzada (f1_weighted) es: {best_cv_score:.4f}\")\n"
      ],
      "metadata": {
        "id": "jioKWLRsVdgV",
        "colab": {
          "base_uri": "https://localhost:8080/"
        },
        "outputId": "3c0161ca-c337-4131-bd6d-1d279e85d55a"
      },
      "execution_count": 18,
      "outputs": [
        {
          "output_type": "stream",
          "name": "stdout",
          "text": [
            "Valores de K a probar: [1, 3, 5, 7, 9, 11, 13, 15, 17, 19, 21, 23, 25, 27, 29, 31]\n",
            "Fitting 5 folds for each of 16 candidates, totalling 80 fits\n",
            "\n",
            "¡El MEJOR valor de K encontrado por GridSearchCV es: 19!\n",
            "La mejor puntuación de validación cruzada (f1_weighted) es: 0.7305\n"
          ]
        }
      ]
    },
    {
      "cell_type": "markdown",
      "source": [
        "**METODO DEL CODO (Elbow Method), para confirmar si de verdad 19 es el numero de k optimo:**\n",
        "\n",
        "La idea es la siguiente:\n",
        "\n",
        "- Calculamos el F1-score para cada valor de K en un rango.\n",
        "- Graficamos estos valores.\n",
        "- Buscamos un \"codo\" en la curva, que es el punto donde la mejora en el rendimiento comienza a disminuir significativamente, o donde la curva se estabiliza."
      ],
      "metadata": {
        "id": "1jfTHGUNfwz4"
      }
    },
    {
      "cell_type": "code",
      "source": [
        "#Definimos el rango de valores de K a probar.\n",
        "max_k_visual = min(len(X_train_scaled) -1, 35)\n",
        "k_values_to_plot = list(range(1, max_k_visual + 1, 2))\n",
        "\n",
        "# Lista para almacenar los F1-scores promedio de validación cruzada para cada K\n",
        "# Vamos a hacer una validación cruzada simplificada aquí para la gráfica\n",
        "f1_scores_cv_avg = []\n",
        "\n",
        "# Configuramos la validación cruzada estratificada (como en GridSearchCV)\n",
        "cv_stratified_for_plot = StratifiedKFold(n_splits=5, shuffle=True, random_state=42)\n",
        "\n",
        "for k in k_values_to_plot:\n",
        "    knn = KNeighborsClassifier(n_neighbors=k)\n",
        "    # Lista temporal para almacenar los F1-scores de cada fold\n",
        "    fold_f1_scores = []\n",
        "\n",
        "    # Realizamos la validación cruzada manualmente para cada K\n",
        "    for train_index, val_index in cv_stratified_for_plot.split(X_train_scaled, y_train):\n",
        "        X_train_fold, X_val_fold = X_train_scaled[train_index], X_train_scaled[val_index]\n",
        "        y_train_fold, y_val_fold = y_train.iloc[train_index], y_train.iloc[val_index] # .iloc para Series\n",
        "\n",
        "        knn.fit(X_train_fold, y_train_fold)\n",
        "        y_val_pred = knn.predict(X_val_fold)\n",
        "        fold_f1_scores.append(f1_score(y_val_fold, y_val_pred, average='weighted'))\n",
        "\n",
        "    # Calculamos el promedio de los F1-scores de todos los folds para este K\n",
        "    f1_scores_cv_avg.append(np.mean(fold_f1_scores))\n",
        "\n",
        "print(\"Cálculo completado. Generando gráfica...\")\n",
        "\n",
        "#Graficamos los resultados\n",
        "plt.figure(figsize=(12, 7))\n",
        "plt.plot(k_values_to_plot, f1_scores_cv_avg, marker='o', linestyle='-', color='blue', linewidth=2)\n",
        "plt.title('Método del Codo: F1-score Promedio de CV vs. Valor de K', fontsize=16)\n",
        "plt.xlabel('Número de Vecinos (K)', fontsize=14)\n",
        "plt.ylabel('F1-score Promedio (Weighted)', fontsize=14)\n",
        "plt.xticks(k_values_to_plot, fontsize=10)\n",
        "plt.yticks(fontsize=10)\n",
        "plt.grid(True, linestyle='--', alpha=0.6)\n",
        "\n",
        "#Usamos el best_k encontrado por GridSearchCV para comparación\n",
        "\n",
        "try:\n",
        "    plt.axvline(best_k, color='red', linestyle='--', linewidth=2, label=f'Mejor K (GridSearchCV) = {best_k}')\n",
        "    plt.legend(fontsize=12)\n",
        "except NameError:\n",
        "    print(\"Variable 'best_k' no definida. Ejecuta primero la sección de GridSearchCV.\")\n",
        "\n",
        "plt.annotate('Busca un \"codo\" o el punto más alto', xy=(k_values_to_plot[np.argmax(f1_scores_cv_avg)], np.max(f1_scores_cv_avg)),\n",
        "             xytext=(k_values_to_plot[np.argmax(f1_scores_cv_avg)] + 5, np.max(f1_scores_cv_avg) - 0.05),\n",
        "             arrowprops=dict(facecolor='black', shrink=0.05),\n",
        "             fontsize=12, color='darkgreen')\n",
        "\n",
        "plt.tight_layout()\n",
        "plt.show()\n",
        "\n",
        "# Imprimir el K que dio el máximo F1-score en esta visualización\n",
        "k_max_f1 = k_values_to_plot[np.argmax(f1_scores_cv_avg)]\n",
        "max_f1_value = np.max(f1_scores_cv_avg)\n",
        "print(f\"\\nEl valor de K que dio el F1-score promedio más alto en esta visualización es: {k_max_f1} (F1-score: {max_f1_value:.4f})\")"
      ],
      "metadata": {
        "colab": {
          "base_uri": "https://localhost:8080/",
          "height": 455
        },
        "id": "O58FXgCkgrJK",
        "outputId": "9131d502-6194-47fe-f7ec-ca5c400866b0"
      },
      "execution_count": 19,
      "outputs": [
        {
          "output_type": "stream",
          "name": "stdout",
          "text": [
            "Cálculo completado. Generando gráfica...\n"
          ]
        },
        {
          "output_type": "display_data",
          "data": {
            "text/plain": [
              "<Figure size 1200x700 with 1 Axes>"
            ],
            "image/png": "[encoded data removed]"
          },
          "metadata": {}
        },
        {
          "output_type": "stream",
          "name": "stdout",
          "text": [
            "\n",
            "El valor de K que dio el F1-score promedio más alto en esta visualización es: 19 (F1-score: 0.7305)\n"
          ]
        }
      ]
    },
    {
      "cell_type": "markdown",
      "source": [
        "###**Entrenamiento del modelo**"
      ],
      "metadata": {
        "id": "F-mBwgiBjYDH"
      }
    },
    {
      "cell_type": "code",
      "source": [
        "knn=KNeighborsClassifier(n_neighbors=19,weights='uniform')\n",
        "knn.fit(X_train, y_train)"
      ],
      "metadata": {
        "colab": {
          "base_uri": "https://localhost:8080/",
          "height": 80
        },
        "id": "6arlmbdMjbR_",
        "outputId": "f93f66d4-2e35-4bd2-903c-c6a084b59f38"
      },
      "execution_count": 20,
      "outputs": [
        {
          "output_type": "execute_result",
          "data": {
            "text/plain": [
              "KNeighborsClassifier(n_neighbors=19)"
            ],
            "text/html": [
              "<style>#sk-container-id-1 {\n",
              "  /* Definition of color scheme common for light and dark mode */\n",
              "  --sklearn-color-text: #000;\n",
              "  --sklearn-color-text-muted: #666;\n",
              "  --sklearn-color-line: gray;\n",
              "  /* Definition of color scheme for unfitted estimators */\n",
              "  --sklearn-color-unfitted-level-0: #fff5e6;\n",
              "  --sklearn-color-unfitted-level-1: #f6e4d2;\n",
              "  --sklearn-color-unfitted-level-2: #ffe0b3;\n",
              "  --sklearn-color-unfitted-level-3: chocolate;\n",
              "  /* Definition of color scheme for fitted estimators */\n",
              "  --sklearn-color-fitted-level-0: #f0f8ff;\n",
              "  --sklearn-color-fitted-level-1: #d4ebff;\n",
              "  --sklearn-color-fitted-level-2: #b3dbfd;\n",
              "  --sklearn-color-fitted-level-3: cornflowerblue;\n",
              "\n",
              "  /* Specific color for light theme */\n",
              "  --sklearn-color-text-on-default-background: var(--sg-text-color, var(--theme-code-foreground, var(--jp-content-font-color1, black)));\n",
              "  --sklearn-color-background: var(--sg-background-color, var(--theme-background, var(--jp-layout-color0, white)));\n",
              "  --sklearn-color-border-box: var(--sg-text-color, var(--theme-code-foreground, var(--jp-content-font-color1, black)));\n",
              "  --sklearn-color-icon: #696969;\n",
              "\n",
              "  @media (prefers-color-scheme: dark) {\n",
              "    /* Redefinition of color scheme for dark theme */\n",
              "    --sklearn-color-text-on-default-background: var(--sg-text-color, var(--theme-code-foreground, var(--jp-content-font-color1, white)));\n",
              "    --sklearn-color-background: var(--sg-background-color, var(--theme-background, var(--jp-layout-color0, #111)));\n",
              "    --sklearn-color-border-box: var(--sg-text-color, var(--theme-code-foreground, var(--jp-content-font-color1, white)));\n",
              "    --sklearn-color-icon: #878787;\n",
              "  }\n",
              "}\n",
              "\n",
              "#sk-container-id-1 {\n",
              "  color: var(--sklearn-color-text);\n",
              "}\n",
              "\n",
              "#sk-container-id-1 pre {\n",
              "  padding: 0;\n",
              "}\n",
              "\n",
              "#sk-container-id-1 input.sk-hidden--visually {\n",
              "  border: 0;\n",
              "  clip: rect(1px 1px 1px 1px);\n",
              "  clip: rect(1px, 1px, 1px, 1px);\n",
              "  height: 1px;\n",
              "  margin: -1px;\n",
              "  overflow: hidden;\n",
              "  padding: 0;\n",
              "  position: absolute;\n",
              "  width: 1px;\n",
              "}\n",
              "\n",
              "#sk-container-id-1 div.sk-dashed-wrapped {\n",
              "  border: 1px dashed var(--sklearn-color-line);\n",
              "  margin: 0 0.4em 0.5em 0.4em;\n",
              "  box-sizing: border-box;\n",
              "  padding-bottom: 0.4em;\n",
              "  background-color: var(--sklearn-color-background);\n",
              "}\n",
              "\n",
              "#sk-container-id-1 div.sk-container {\n",
              "  /* jupyter's `normalize.less` sets `[hidden] { display: none; }`\n",
              "     but bootstrap.min.css set `[hidden] { display: none !important; }`\n",
              "     so we also need the `!important` here to be able to override the\n",
              "     default hidden behavior on the sphinx rendered scikit-learn.org.\n",
              "     See: https://github.com/scikit-learn/scikit-learn/issues/21755 */\n",
              "  display: inline-block !important;\n",
              "  position: relative;\n",
              "}\n",
              "\n",
              "#sk-container-id-1 div.sk-text-repr-fallback {\n",
              "  display: none;\n",
              "}\n",
              "\n",
              "div.sk-parallel-item,\n",
              "div.sk-serial,\n",
              "div.sk-item {\n",
              "  /* draw centered vertical line to link estimators */\n",
              "  background-image: linear-gradient(var(--sklearn-color-text-on-default-background), var(--sklearn-color-text-on-default-background));\n",
              "  background-size: 2px 100%;\n",
              "  background-repeat: no-repeat;\n",
              "  background-position: center center;\n",
              "}\n",
              "\n",
              "/* Parallel-specific style estimator block */\n",
              "\n",
              "#sk-container-id-1 div.sk-parallel-item::after {\n",
              "  content: \"\";\n",
              "  width: 100%;\n",
              "  border-bottom: 2px solid var(--sklearn-color-text-on-default-background);\n",
              "  flex-grow: 1;\n",
              "}\n",
              "\n",
              "#sk-container-id-1 div.sk-parallel {\n",
              "  display: flex;\n",
              "  align-items: stretch;\n",
              "  justify-content: center;\n",
              "  background-color: var(--sklearn-color-background);\n",
              "  position: relative;\n",
              "}\n",
              "\n",
              "#sk-container-id-1 div.sk-parallel-item {\n",
              "  display: flex;\n",
              "  flex-direction: column;\n",
              "}\n",
              "\n",
              "#sk-container-id-1 div.sk-parallel-item:first-child::after {\n",
              "  align-self: flex-end;\n",
              "  width: 50%;\n",
              "}\n",
              "\n",
              "#sk-container-id-1 div.sk-parallel-item:last-child::after {\n",
              "  align-self: flex-start;\n",
              "  width: 50%;\n",
              "}\n",
              "\n",
              "#sk-container-id-1 div.sk-parallel-item:only-child::after {\n",
              "  width: 0;\n",
              "}\n",
              "\n",
              "/* Serial-specific style estimator block */\n",
              "\n",
              "#sk-container-id-1 div.sk-serial {\n",
              "  display: flex;\n",
              "  flex-direction: column;\n",
              "  align-items: center;\n",
              "  background-color: var(--sklearn-color-background);\n",
              "  padding-right: 1em;\n",
              "  padding-left: 1em;\n",
              "}\n",
              "\n",
              "\n",
              "/* Toggleable style: style used for estimator/Pipeline/ColumnTransformer box that is\n",
              "clickable and can be expanded/collapsed.\n",
              "- Pipeline and ColumnTransformer use this feature and define the default style\n",
              "- Estimators will overwrite some part of the style using the `sk-estimator` class\n",
              "*/\n",
              "\n",
              "/* Pipeline and ColumnTransformer style (default) */\n",
              "\n",
              "#sk-container-id-1 div.sk-toggleable {\n",
              "  /* Default theme specific background. It is overwritten whether we have a\n",
              "  specific estimator or a Pipeline/ColumnTransformer */\n",
              "  background-color: var(--sklearn-color-background);\n",
              "}\n",
              "\n",
              "/* Toggleable label */\n",
              "#sk-container-id-1 label.sk-toggleable__label {\n",
              "  cursor: pointer;\n",
              "  display: flex;\n",
              "  width: 100%;\n",
              "  margin-bottom: 0;\n",
              "  padding: 0.5em;\n",
              "  box-sizing: border-box;\n",
              "  text-align: center;\n",
              "  align-items: start;\n",
              "  justify-content: space-between;\n",
              "  gap: 0.5em;\n",
              "}\n",
              "\n",
              "#sk-container-id-1 label.sk-toggleable__label .caption {\n",
              "  font-size: 0.6rem;\n",
              "  font-weight: lighter;\n",
              "  color: var(--sklearn-color-text-muted);\n",
              "}\n",
              "\n",
              "#sk-container-id-1 label.sk-toggleable__label-arrow:before {\n",
              "  /* Arrow on the left of the label */\n",
              "  content: \"▸\";\n",
              "  float: left;\n",
              "  margin-right: 0.25em;\n",
              "  color: var(--sklearn-color-icon);\n",
              "}\n",
              "\n",
              "#sk-container-id-1 label.sk-toggleable__label-arrow:hover:before {\n",
              "  color: var(--sklearn-color-text);\n",
              "}\n",
              "\n",
              "/* Toggleable content - dropdown */\n",
              "\n",
              "#sk-container-id-1 div.sk-toggleable__content {\n",
              "  max-height: 0;\n",
              "  max-width: 0;\n",
              "  overflow: hidden;\n",
              "  text-align: left;\n",
              "  /* unfitted */\n",
              "  background-color: var(--sklearn-color-unfitted-level-0);\n",
              "}\n",
              "\n",
              "#sk-container-id-1 div.sk-toggleable__content.fitted {\n",
              "  /* fitted */\n",
              "  background-color: var(--sklearn-color-fitted-level-0);\n",
              "}\n",
              "\n",
              "#sk-container-id-1 div.sk-toggleable__content pre {\n",
              "  margin: 0.2em;\n",
              "  border-radius: 0.25em;\n",
              "  color: var(--sklearn-color-text);\n",
              "  /* unfitted */\n",
              "  background-color: var(--sklearn-color-unfitted-level-0);\n",
              "}\n",
              "\n",
              "#sk-container-id-1 div.sk-toggleable__content.fitted pre {\n",
              "  /* unfitted */\n",
              "  background-color: var(--sklearn-color-fitted-level-0);\n",
              "}\n",
              "\n",
              "#sk-container-id-1 input.sk-toggleable__control:checked~div.sk-toggleable__content {\n",
              "  /* Expand drop-down */\n",
              "  max-height: 200px;\n",
              "  max-width: 100%;\n",
              "  overflow: auto;\n",
              "}\n",
              "\n",
              "#sk-container-id-1 input.sk-toggleable__control:checked~label.sk-toggleable__label-arrow:before {\n",
              "  content: \"▾\";\n",
              "}\n",
              "\n",
              "/* Pipeline/ColumnTransformer-specific style */\n",
              "\n",
              "#sk-container-id-1 div.sk-label input.sk-toggleable__control:checked~label.sk-toggleable__label {\n",
              "  color: var(--sklearn-color-text);\n",
              "  background-color: var(--sklearn-color-unfitted-level-2);\n",
              "}\n",
              "\n",
              "#sk-container-id-1 div.sk-label.fitted input.sk-toggleable__control:checked~label.sk-toggleable__label {\n",
              "  background-color: var(--sklearn-color-fitted-level-2);\n",
              "}\n",
              "\n",
              "/* Estimator-specific style */\n",
              "\n",
              "/* Colorize estimator box */\n",
              "#sk-container-id-1 div.sk-estimator input.sk-toggleable__control:checked~label.sk-toggleable__label {\n",
              "  /* unfitted */\n",
              "  background-color: var(--sklearn-color-unfitted-level-2);\n",
              "}\n",
              "\n",
              "#sk-container-id-1 div.sk-estimator.fitted input.sk-toggleable__control:checked~label.sk-toggleable__label {\n",
              "  /* fitted */\n",
              "  background-color: var(--sklearn-color-fitted-level-2);\n",
              "}\n",
              "\n",
              "#sk-container-id-1 div.sk-label label.sk-toggleable__label,\n",
              "#sk-container-id-1 div.sk-label label {\n",
              "  /* The background is the default theme color */\n",
              "  color: var(--sklearn-color-text-on-default-background);\n",
              "}\n",
              "\n",
              "/* On hover, darken the color of the background */\n",
              "#sk-container-id-1 div.sk-label:hover label.sk-toggleable__label {\n",
              "  color: var(--sklearn-color-text);\n",
              "  background-color: var(--sklearn-color-unfitted-level-2);\n",
              "}\n",
              "\n",
              "/* Label box, darken color on hover, fitted */\n",
              "#sk-container-id-1 div.sk-label.fitted:hover label.sk-toggleable__label.fitted {\n",
              "  color: var(--sklearn-color-text);\n",
              "  background-color: var(--sklearn-color-fitted-level-2);\n",
              "}\n",
              "\n",
              "/* Estimator label */\n",
              "\n",
              "#sk-container-id-1 div.sk-label label {\n",
              "  font-family: monospace;\n",
              "  font-weight: bold;\n",
              "  display: inline-block;\n",
              "  line-height: 1.2em;\n",
              "}\n",
              "\n",
              "#sk-container-id-1 div.sk-label-container {\n",
              "  text-align: center;\n",
              "}\n",
              "\n",
              "/* Estimator-specific */\n",
              "#sk-container-id-1 div.sk-estimator {\n",
              "  font-family: monospace;\n",
              "  border: 1px dotted var(--sklearn-color-border-box);\n",
              "  border-radius: 0.25em;\n",
              "  box-sizing: border-box;\n",
              "  margin-bottom: 0.5em;\n",
              "  /* unfitted */\n",
              "  background-color: var(--sklearn-color-unfitted-level-0);\n",
              "}\n",
              "\n",
              "#sk-container-id-1 div.sk-estimator.fitted {\n",
              "  /* fitted */\n",
              "  background-color: var(--sklearn-color-fitted-level-0);\n",
              "}\n",
              "\n",
              "/* on hover */\n",
              "#sk-container-id-1 div.sk-estimator:hover {\n",
              "  /* unfitted */\n",
              "  background-color: var(--sklearn-color-unfitted-level-2);\n",
              "}\n",
              "\n",
              "#sk-container-id-1 div.sk-estimator.fitted:hover {\n",
              "  /* fitted */\n",
              "  background-color: var(--sklearn-color-fitted-level-2);\n",
              "}\n",
              "\n",
              "/* Specification for estimator info (e.g. \"i\" and \"?\") */\n",
              "\n",
              "/* Common style for \"i\" and \"?\" */\n",
              "\n",
              ".sk-estimator-doc-link,\n",
              "a:link.sk-estimator-doc-link,\n",
              "a:visited.sk-estimator-doc-link {\n",
              "  float: right;\n",
              "  font-size: smaller;\n",
              "  line-height: 1em;\n",
              "  font-family: monospace;\n",
              "  background-color: var(--sklearn-color-background);\n",
              "  border-radius: 1em;\n",
              "  height: 1em;\n",
              "  width: 1em;\n",
              "  text-decoration: none !important;\n",
              "  margin-left: 0.5em;\n",
              "  text-align: center;\n",
              "  /* unfitted */\n",
              "  border: var(--sklearn-color-unfitted-level-1) 1pt solid;\n",
              "  color: var(--sklearn-color-unfitted-level-1);\n",
              "}\n",
              "\n",
              ".sk-estimator-doc-link.fitted,\n",
              "a:link.sk-estimator-doc-link.fitted,\n",
              "a:visited.sk-estimator-doc-link.fitted {\n",
              "  /* fitted */\n",
              "  border: var(--sklearn-color-fitted-level-1) 1pt solid;\n",
              "  color: var(--sklearn-color-fitted-level-1);\n",
              "}\n",
              "\n",
              "/* On hover */\n",
              "div.sk-estimator:hover .sk-estimator-doc-link:hover,\n",
              ".sk-estimator-doc-link:hover,\n",
              "div.sk-label-container:hover .sk-estimator-doc-link:hover,\n",
              ".sk-estimator-doc-link:hover {\n",
              "  /* unfitted */\n",
              "  background-color: var(--sklearn-color-unfitted-level-3);\n",
              "  color: var(--sklearn-color-background);\n",
              "  text-decoration: none;\n",
              "}\n",
              "\n",
              "div.sk-estimator.fitted:hover .sk-estimator-doc-link.fitted:hover,\n",
              ".sk-estimator-doc-link.fitted:hover,\n",
              "div.sk-label-container:hover .sk-estimator-doc-link.fitted:hover,\n",
              ".sk-estimator-doc-link.fitted:hover {\n",
              "  /* fitted */\n",
              "  background-color: var(--sklearn-color-fitted-level-3);\n",
              "  color: var(--sklearn-color-background);\n",
              "  text-decoration: none;\n",
              "}\n",
              "\n",
              "/* Span, style for the box shown on hovering the info icon */\n",
              ".sk-estimator-doc-link span {\n",
              "  display: none;\n",
              "  z-index: 9999;\n",
              "  position: relative;\n",
              "  font-weight: normal;\n",
              "  right: .2ex;\n",
              "  padding: .5ex;\n",
              "  margin: .5ex;\n",
              "  width: min-content;\n",
              "  min-width: 20ex;\n",
              "  max-width: 50ex;\n",
              "  color: var(--sklearn-color-text);\n",
              "  box-shadow: 2pt 2pt 4pt #999;\n",
              "  /* unfitted */\n",
              "  background: var(--sklearn-color-unfitted-level-0);\n",
              "  border: .5pt solid var(--sklearn-color-unfitted-level-3);\n",
              "}\n",
              "\n",
              ".sk-estimator-doc-link.fitted span {\n",
              "  /* fitted */\n",
              "  background: var(--sklearn-color-fitted-level-0);\n",
              "  border: var(--sklearn-color-fitted-level-3);\n",
              "}\n",
              "\n",
              ".sk-estimator-doc-link:hover span {\n",
              "  display: block;\n",
              "}\n",
              "\n",
              "/* \"?\"-specific style due to the `<a>` HTML tag */\n",
              "\n",
              "#sk-container-id-1 a.estimator_doc_link {\n",
              "  float: right;\n",
              "  font-size: 1rem;\n",
              "  line-height: 1em;\n",
              "  font-family: monospace;\n",
              "  background-color: var(--sklearn-color-background);\n",
              "  border-radius: 1rem;\n",
              "  height: 1rem;\n",
              "  width: 1rem;\n",
              "  text-decoration: none;\n",
              "  /* unfitted */\n",
              "  color: var(--sklearn-color-unfitted-level-1);\n",
              "  border: var(--sklearn-color-unfitted-level-1) 1pt solid;\n",
              "}\n",
              "\n",
              "#sk-container-id-1 a.estimator_doc_link.fitted {\n",
              "  /* fitted */\n",
              "  border: var(--sklearn-color-fitted-level-1) 1pt solid;\n",
              "  color: var(--sklearn-color-fitted-level-1);\n",
              "}\n",
              "\n",
              "/* On hover */\n",
              "#sk-container-id-1 a.estimator_doc_link:hover {\n",
              "  /* unfitted */\n",
              "  background-color: var(--sklearn-color-unfitted-level-3);\n",
              "  color: var(--sklearn-color-background);\n",
              "  text-decoration: none;\n",
              "}\n",
              "\n",
              "#sk-container-id-1 a.estimator_doc_link.fitted:hover {\n",
              "  /* fitted */\n",
              "  background-color: var(--sklearn-color-fitted-level-3);\n",
              "}\n",
              "</style><div id=\"sk-container-id-1\" class=\"sk-top-container\"><div class=\"sk-text-repr-fallback\"><pre>KNeighborsClassifier(n_neighbors=19)</pre><b>In a Jupyter environment, please rerun this cell to show the HTML representation or trust the notebook. <br />On GitHub, the HTML representation is unable to render, please try loading this page with nbviewer.org.</b></div><div class=\"sk-container\" hidden><div class=\"sk-item\"><div class=\"sk-estimator fitted sk-toggleable\"><input class=\"sk-toggleable__control sk-hidden--visually\" id=\"sk-estimator-id-1\" type=\"checkbox\" checked><label for=\"sk-estimator-id-1\" class=\"sk-toggleable__label fitted sk-toggleable__label-arrow\"><div><div>KNeighborsClassifier</div></div><div><a class=\"sk-estimator-doc-link fitted\" rel=\"noreferrer\" target=\"_blank\" href=\"https://scikit-learn.org/1.6/modules/generated/sklearn.neighbors.KNeighborsClassifier.html\">?<span>Documentation for KNeighborsClassifier</span></a><span class=\"sk-estimator-doc-link fitted\">i<span>Fitted</span></span></div></label><div class=\"sk-toggleable__content fitted\"><pre>KNeighborsClassifier(n_neighbors=19)</pre></div> </div></div></div></div>"
            ]
          },
          "metadata": {},
          "execution_count": 20
        }
      ]
    },
    {
      "cell_type": "markdown",
      "source": [
        "### 5.3 Evaluación del desempeño"
      ],
      "metadata": {
        "id": "fUHMdhs0Tw_2"
      }
    },
    {
      "cell_type": "markdown",
      "source": [
        "Realizamos la prediccion con el conjunto (X_test) y evaluamos el rendimiento del modelo"
      ],
      "metadata": {
        "id": "ni-4UwL6T0mL"
      }
    },
    {
      "cell_type": "code",
      "source": [
        "y_pred=knn.predict(X_test)\n",
        "\n",
        "#Generar la matriz de confusión\n",
        "conf_matrix = confusion_matrix(y_test, y_pred)\n",
        "\n",
        "# Imprimir la matriz de confusión\n",
        "print(\"Matriz de confusión:\")\n",
        "print(conf_matrix)\n",
        "\n",
        "# Evaluar el rendimiento del modelo\n",
        "print(f\"Accuracy: {accuracy_score(y_test, y_pred)}\")\n",
        "print(classification_report(y_test, y_pred))"
      ],
      "metadata": {
        "id": "tdSy09cRT03O",
        "colab": {
          "base_uri": "https://localhost:8080/"
        },
        "outputId": "549dfd13-3f88-4102-f914-8937ec670276"
      },
      "execution_count": 21,
      "outputs": [
        {
          "output_type": "stream",
          "name": "stdout",
          "text": [
            "Matriz de confusión:\n",
            "[[40  6]\n",
            " [11  5]]\n",
            "Accuracy: 0.7258064516129032\n",
            "              precision    recall  f1-score   support\n",
            "\n",
            "           0       0.78      0.87      0.82        46\n",
            "           1       0.45      0.31      0.37        16\n",
            "\n",
            "    accuracy                           0.73        62\n",
            "   macro avg       0.62      0.59      0.60        62\n",
            "weighted avg       0.70      0.73      0.71        62\n",
            "\n"
          ]
        }
      ]
    },
    {
      "cell_type": "markdown",
      "source": [
        "###**CONCLUSIONES**\n",
        "\n",
        "A nivel general el modelo Logistic Regression logro un mayor porcentaje de predicciones correctas:\n",
        "- LR: 0.7419\n",
        "- KNN: 0.7258\n",
        "\n",
        "A nivel de predecir mejor la clase que falleceria antes de los 5 años, si comparamos las metricas. Podemos decir que el modelo KNN obtuvo un mejor recall, osea que detecto mejor la calse 1, y tambien tiene un F1-Score mas alto que en los resultados con el modelo Logistic Regression.\n"
      ],
      "metadata": {
        "id": "lDusVGv2YILR"
      }
    },
    {
      "cell_type": "markdown",
      "source": [
        "## 6  Tuneo de hiperparámetros\n",
        "\n",
        "En esta sección debe modificar probar cómo la modificación de un hiperparámetro del modelo elegido en punto 5) afecta en los resultados.\n",
        "\n",
        "Justifique y realice el experimento en esta sección."
      ],
      "metadata": {
        "id": "IJwxj1LpVhgf"
      }
    },
    {
      "cell_type": "markdown",
      "source": [
        "Voy a probar modificar el hiperparametro **WEIGHT**. Este concepto se refiere a la **importancia o influencia** que le damos a cada uno de los vecinos mas cercanos cuando el moelo realiza una prediccion.\n",
        "\n",
        "Hay 2 formas predefinidas para ponderar a los vecinos en 'weight', o sino una personalizada:\n",
        "- **Uniform:** Donde todos los vecinos mas ceracnos que identifique, tienen exactamente la misma importancia al tomardesiciones el modelo. La opinion de todos los vecinos importa por igual.\n",
        "\n",
        "- **Distance:** Donde los vecinos mas cercanos tienen mayor importancia en su voto.\n",
        "\n",
        "- **Callable:** Donde se le dice al modelo que o elija ninguna de las formas anteriores, sino que use una regla propia que defino yo. Esto llevaria mas trabajo ya que se deberia escribir el codigo, definirla funcion, diseñar , implemetar y probar una logica propia de ponderacion, lo que requiere conocimientos mas avanzados tambien."
      ],
      "metadata": {
        "id": "lN-SlrY0V4oq"
      }
    },
    {
      "cell_type": "code",
      "source": [
        "from sklearn.metrics import classification_report\n",
        "\n",
        "#Usamos el best_k que calculamos\n",
        "weight_options=['uniform','distance']\n",
        "\n",
        "for weight in weight_options:\n",
        "  print(f'\\nModelo KNN con weight',{weight})\n",
        "  knn=KNeighborsClassifier(n_neighbors=best_k,weights=weight)\n",
        "  knn.fit(X_train,y_train)\n",
        "  y_pred=knn.predict(X_test)\n",
        "\n",
        "  print('Matriz de confusion:')\n",
        "  print(confusion_matrix(y_test,y_pred))\n",
        "\n",
        "  print('Reporte de clasificacion')\n",
        "  print(classification_report(y_test,y_pred))"
      ],
      "metadata": {
        "id": "HpSsFQLaV5HB",
        "colab": {
          "base_uri": "https://localhost:8080/"
        },
        "outputId": "b1878288-fcce-43d3-a7f9-aa276831571c"
      },
      "execution_count": 22,
      "outputs": [
        {
          "output_type": "stream",
          "name": "stdout",
          "text": [
            "\n",
            "Modelo KNN con weight {'uniform'}\n",
            "Matriz de confusion:\n",
            "[[40  6]\n",
            " [11  5]]\n",
            "Reporte de clasificacion\n",
            "              precision    recall  f1-score   support\n",
            "\n",
            "           0       0.78      0.87      0.82        46\n",
            "           1       0.45      0.31      0.37        16\n",
            "\n",
            "    accuracy                           0.73        62\n",
            "   macro avg       0.62      0.59      0.60        62\n",
            "weighted avg       0.70      0.73      0.71        62\n",
            "\n",
            "\n",
            "Modelo KNN con weight {'distance'}\n",
            "Matriz de confusion:\n",
            "[[41  5]\n",
            " [11  5]]\n",
            "Reporte de clasificacion\n",
            "              precision    recall  f1-score   support\n",
            "\n",
            "           0       0.79      0.89      0.84        46\n",
            "           1       0.50      0.31      0.38        16\n",
            "\n",
            "    accuracy                           0.74        62\n",
            "   macro avg       0.64      0.60      0.61        62\n",
            "weighted avg       0.71      0.74      0.72        62\n",
            "\n"
          ]
        }
      ]
    },
    {
      "cell_type": "markdown",
      "source": [
        "Bueno en general podemos ver una mejora cambiando este hiperparametro de weight='uniform' <-- a --> weight='distance'.\n",
        "\n",
        "- Precision: el modelo con distance mejoro levemente la precision, asi prediciendo con un poco mas de seguridad los casoso negativos reales.\n",
        "\n",
        "- Recall: en este aspecto el modelo se mantuvo, sigue detectando solo al 31% de los que no sobrevivieron.\n",
        "\n",
        "- F1-Score: aumento levemente tambien.\n",
        "\n",
        "- Accuracy: ambos modelos obtuvieorn uno similar, aumentando muy poco cuando usamos 'distance'.\n",
        "\n",
        "- Support: podemos ver claramente como la clase 1 es menor.\n",
        "\n",
        "Bueno en resumen vemos una mejora minima cambiando este hiperparametro\n"
      ],
      "metadata": {
        "id": "xuwOzneyo608"
      }
    },
    {
      "cell_type": "markdown",
      "source": [
        "Podemos cambiar el hiperparametro 'metric'='minkowski' que es el que viene por default, lo cambie por 'euclidean' pero la verdad no genero ningun cambio."
      ],
      "metadata": {
        "id": "93fsMP0B1RKB"
      }
    },
    {
      "cell_type": "code",
      "source": [
        "knn=KNeighborsClassifier(n_neighbors=19,weights='distance', metric='euclidean')\n",
        "knn.fit(X_train, y_train)"
      ],
      "metadata": {
        "colab": {
          "base_uri": "https://localhost:8080/",
          "height": 80
        },
        "id": "XkeyVF1O0N5v",
        "outputId": "a9cf8434-5983-4f9d-ed59-7a7c93f2e8f0"
      },
      "execution_count": 23,
      "outputs": [
        {
          "output_type": "execute_result",
          "data": {
            "text/plain": [
              "KNeighborsClassifier(metric='euclidean', n_neighbors=19, weights='distance')"
            ],
            "text/html": [
              "<style>#sk-container-id-2 {\n",
              "  /* Definition of color scheme common for light and dark mode */\n",
              "  --sklearn-color-text: #000;\n",
              "  --sklearn-color-text-muted: #666;\n",
              "  --sklearn-color-line: gray;\n",
              "  /* Definition of color scheme for unfitted estimators */\n",
              "  --sklearn-color-unfitted-level-0: #fff5e6;\n",
              "  --sklearn-color-unfitted-level-1: #f6e4d2;\n",
              "  --sklearn-color-unfitted-level-2: #ffe0b3;\n",
              "  --sklearn-color-unfitted-level-3: chocolate;\n",
              "  /* Definition of color scheme for fitted estimators */\n",
              "  --sklearn-color-fitted-level-0: #f0f8ff;\n",
              "  --sklearn-color-fitted-level-1: #d4ebff;\n",
              "  --sklearn-color-fitted-level-2: #b3dbfd;\n",
              "  --sklearn-color-fitted-level-3: cornflowerblue;\n",
              "\n",
              "  /* Specific color for light theme */\n",
              "  --sklearn-color-text-on-default-background: var(--sg-text-color, var(--theme-code-foreground, var(--jp-content-font-color1, black)));\n",
              "  --sklearn-color-background: var(--sg-background-color, var(--theme-background, var(--jp-layout-color0, white)));\n",
              "  --sklearn-color-border-box: var(--sg-text-color, var(--theme-code-foreground, var(--jp-content-font-color1, black)));\n",
              "  --sklearn-color-icon: #696969;\n",
              "\n",
              "  @media (prefers-color-scheme: dark) {\n",
              "    /* Redefinition of color scheme for dark theme */\n",
              "    --sklearn-color-text-on-default-background: var(--sg-text-color, var(--theme-code-foreground, var(--jp-content-font-color1, white)));\n",
              "    --sklearn-color-background: var(--sg-background-color, var(--theme-background, var(--jp-layout-color0, #111)));\n",
              "    --sklearn-color-border-box: var(--sg-text-color, var(--theme-code-foreground, var(--jp-content-font-color1, white)));\n",
              "    --sklearn-color-icon: #878787;\n",
              "  }\n",
              "}\n",
              "\n",
              "#sk-container-id-2 {\n",
              "  color: var(--sklearn-color-text);\n",
              "}\n",
              "\n",
              "#sk-container-id-2 pre {\n",
              "  padding: 0;\n",
              "}\n",
              "\n",
              "#sk-container-id-2 input.sk-hidden--visually {\n",
              "  border: 0;\n",
              "  clip: rect(1px 1px 1px 1px);\n",
              "  clip: rect(1px, 1px, 1px, 1px);\n",
              "  height: 1px;\n",
              "  margin: -1px;\n",
              "  overflow: hidden;\n",
              "  padding: 0;\n",
              "  position: absolute;\n",
              "  width: 1px;\n",
              "}\n",
              "\n",
              "#sk-container-id-2 div.sk-dashed-wrapped {\n",
              "  border: 1px dashed var(--sklearn-color-line);\n",
              "  margin: 0 0.4em 0.5em 0.4em;\n",
              "  box-sizing: border-box;\n",
              "  padding-bottom: 0.4em;\n",
              "  background-color: var(--sklearn-color-background);\n",
              "}\n",
              "\n",
              "#sk-container-id-2 div.sk-container {\n",
              "  /* jupyter's `normalize.less` sets `[hidden] { display: none; }`\n",
              "     but bootstrap.min.css set `[hidden] { display: none !important; }`\n",
              "     so we also need the `!important` here to be able to override the\n",
              "     default hidden behavior on the sphinx rendered scikit-learn.org.\n",
              "     See: https://github.com/scikit-learn/scikit-learn/issues/21755 */\n",
              "  display: inline-block !important;\n",
              "  position: relative;\n",
              "}\n",
              "\n",
              "#sk-container-id-2 div.sk-text-repr-fallback {\n",
              "  display: none;\n",
              "}\n",
              "\n",
              "div.sk-parallel-item,\n",
              "div.sk-serial,\n",
              "div.sk-item {\n",
              "  /* draw centered vertical line to link estimators */\n",
              "  background-image: linear-gradient(var(--sklearn-color-text-on-default-background), var(--sklearn-color-text-on-default-background));\n",
              "  background-size: 2px 100%;\n",
              "  background-repeat: no-repeat;\n",
              "  background-position: center center;\n",
              "}\n",
              "\n",
              "/* Parallel-specific style estimator block */\n",
              "\n",
              "#sk-container-id-2 div.sk-parallel-item::after {\n",
              "  content: \"\";\n",
              "  width: 100%;\n",
              "  border-bottom: 2px solid var(--sklearn-color-text-on-default-background);\n",
              "  flex-grow: 1;\n",
              "}\n",
              "\n",
              "#sk-container-id-2 div.sk-parallel {\n",
              "  display: flex;\n",
              "  align-items: stretch;\n",
              "  justify-content: center;\n",
              "  background-color: var(--sklearn-color-background);\n",
              "  position: relative;\n",
              "}\n",
              "\n",
              "#sk-container-id-2 div.sk-parallel-item {\n",
              "  display: flex;\n",
              "  flex-direction: column;\n",
              "}\n",
              "\n",
              "#sk-container-id-2 div.sk-parallel-item:first-child::after {\n",
              "  align-self: flex-end;\n",
              "  width: 50%;\n",
              "}\n",
              "\n",
              "#sk-container-id-2 div.sk-parallel-item:last-child::after {\n",
              "  align-self: flex-start;\n",
              "  width: 50%;\n",
              "}\n",
              "\n",
              "#sk-container-id-2 div.sk-parallel-item:only-child::after {\n",
              "  width: 0;\n",
              "}\n",
              "\n",
              "/* Serial-specific style estimator block */\n",
              "\n",
              "#sk-container-id-2 div.sk-serial {\n",
              "  display: flex;\n",
              "  flex-direction: column;\n",
              "  align-items: center;\n",
              "  background-color: var(--sklearn-color-background);\n",
              "  padding-right: 1em;\n",
              "  padding-left: 1em;\n",
              "}\n",
              "\n",
              "\n",
              "/* Toggleable style: style used for estimator/Pipeline/ColumnTransformer box that is\n",
              "clickable and can be expanded/collapsed.\n",
              "- Pipeline and ColumnTransformer use this feature and define the default style\n",
              "- Estimators will overwrite some part of the style using the `sk-estimator` class\n",
              "*/\n",
              "\n",
              "/* Pipeline and ColumnTransformer style (default) */\n",
              "\n",
              "#sk-container-id-2 div.sk-toggleable {\n",
              "  /* Default theme specific background. It is overwritten whether we have a\n",
              "  specific estimator or a Pipeline/ColumnTransformer */\n",
              "  background-color: var(--sklearn-color-background);\n",
              "}\n",
              "\n",
              "/* Toggleable label */\n",
              "#sk-container-id-2 label.sk-toggleable__label {\n",
              "  cursor: pointer;\n",
              "  display: flex;\n",
              "  width: 100%;\n",
              "  margin-bottom: 0;\n",
              "  padding: 0.5em;\n",
              "  box-sizing: border-box;\n",
              "  text-align: center;\n",
              "  align-items: start;\n",
              "  justify-content: space-between;\n",
              "  gap: 0.5em;\n",
              "}\n",
              "\n",
              "#sk-container-id-2 label.sk-toggleable__label .caption {\n",
              "  font-size: 0.6rem;\n",
              "  font-weight: lighter;\n",
              "  color: var(--sklearn-color-text-muted);\n",
              "}\n",
              "\n",
              "#sk-container-id-2 label.sk-toggleable__label-arrow:before {\n",
              "  /* Arrow on the left of the label */\n",
              "  content: \"▸\";\n",
              "  float: left;\n",
              "  margin-right: 0.25em;\n",
              "  color: var(--sklearn-color-icon);\n",
              "}\n",
              "\n",
              "#sk-container-id-2 label.sk-toggleable__label-arrow:hover:before {\n",
              "  color: var(--sklearn-color-text);\n",
              "}\n",
              "\n",
              "/* Toggleable content - dropdown */\n",
              "\n",
              "#sk-container-id-2 div.sk-toggleable__content {\n",
              "  max-height: 0;\n",
              "  max-width: 0;\n",
              "  overflow: hidden;\n",
              "  text-align: left;\n",
              "  /* unfitted */\n",
              "  background-color: var(--sklearn-color-unfitted-level-0);\n",
              "}\n",
              "\n",
              "#sk-container-id-2 div.sk-toggleable__content.fitted {\n",
              "  /* fitted */\n",
              "  background-color: var(--sklearn-color-fitted-level-0);\n",
              "}\n",
              "\n",
              "#sk-container-id-2 div.sk-toggleable__content pre {\n",
              "  margin: 0.2em;\n",
              "  border-radius: 0.25em;\n",
              "  color: var(--sklearn-color-text);\n",
              "  /* unfitted */\n",
              "  background-color: var(--sklearn-color-unfitted-level-0);\n",
              "}\n",
              "\n",
              "#sk-container-id-2 div.sk-toggleable__content.fitted pre {\n",
              "  /* unfitted */\n",
              "  background-color: var(--sklearn-color-fitted-level-0);\n",
              "}\n",
              "\n",
              "#sk-container-id-2 input.sk-toggleable__control:checked~div.sk-toggleable__content {\n",
              "  /* Expand drop-down */\n",
              "  max-height: 200px;\n",
              "  max-width: 100%;\n",
              "  overflow: auto;\n",
              "}\n",
              "\n",
              "#sk-container-id-2 input.sk-toggleable__control:checked~label.sk-toggleable__label-arrow:before {\n",
              "  content: \"▾\";\n",
              "}\n",
              "\n",
              "/* Pipeline/ColumnTransformer-specific style */\n",
              "\n",
              "#sk-container-id-2 div.sk-label input.sk-toggleable__control:checked~label.sk-toggleable__label {\n",
              "  color: var(--sklearn-color-text);\n",
              "  background-color: var(--sklearn-color-unfitted-level-2);\n",
              "}\n",
              "\n",
              "#sk-container-id-2 div.sk-label.fitted input.sk-toggleable__control:checked~label.sk-toggleable__label {\n",
              "  background-color: var(--sklearn-color-fitted-level-2);\n",
              "}\n",
              "\n",
              "/* Estimator-specific style */\n",
              "\n",
              "/* Colorize estimator box */\n",
              "#sk-container-id-2 div.sk-estimator input.sk-toggleable__control:checked~label.sk-toggleable__label {\n",
              "  /* unfitted */\n",
              "  background-color: var(--sklearn-color-unfitted-level-2);\n",
              "}\n",
              "\n",
              "#sk-container-id-2 div.sk-estimator.fitted input.sk-toggleable__control:checked~label.sk-toggleable__label {\n",
              "  /* fitted */\n",
              "  background-color: var(--sklearn-color-fitted-level-2);\n",
              "}\n",
              "\n",
              "#sk-container-id-2 div.sk-label label.sk-toggleable__label,\n",
              "#sk-container-id-2 div.sk-label label {\n",
              "  /* The background is the default theme color */\n",
              "  color: var(--sklearn-color-text-on-default-background);\n",
              "}\n",
              "\n",
              "/* On hover, darken the color of the background */\n",
              "#sk-container-id-2 div.sk-label:hover label.sk-toggleable__label {\n",
              "  color: var(--sklearn-color-text);\n",
              "  background-color: var(--sklearn-color-unfitted-level-2);\n",
              "}\n",
              "\n",
              "/* Label box, darken color on hover, fitted */\n",
              "#sk-container-id-2 div.sk-label.fitted:hover label.sk-toggleable__label.fitted {\n",
              "  color: var(--sklearn-color-text);\n",
              "  background-color: var(--sklearn-color-fitted-level-2);\n",
              "}\n",
              "\n",
              "/* Estimator label */\n",
              "\n",
              "#sk-container-id-2 div.sk-label label {\n",
              "  font-family: monospace;\n",
              "  font-weight: bold;\n",
              "  display: inline-block;\n",
              "  line-height: 1.2em;\n",
              "}\n",
              "\n",
              "#sk-container-id-2 div.sk-label-container {\n",
              "  text-align: center;\n",
              "}\n",
              "\n",
              "/* Estimator-specific */\n",
              "#sk-container-id-2 div.sk-estimator {\n",
              "  font-family: monospace;\n",
              "  border: 1px dotted var(--sklearn-color-border-box);\n",
              "  border-radius: 0.25em;\n",
              "  box-sizing: border-box;\n",
              "  margin-bottom: 0.5em;\n",
              "  /* unfitted */\n",
              "  background-color: var(--sklearn-color-unfitted-level-0);\n",
              "}\n",
              "\n",
              "#sk-container-id-2 div.sk-estimator.fitted {\n",
              "  /* fitted */\n",
              "  background-color: var(--sklearn-color-fitted-level-0);\n",
              "}\n",
              "\n",
              "/* on hover */\n",
              "#sk-container-id-2 div.sk-estimator:hover {\n",
              "  /* unfitted */\n",
              "  background-color: var(--sklearn-color-unfitted-level-2);\n",
              "}\n",
              "\n",
              "#sk-container-id-2 div.sk-estimator.fitted:hover {\n",
              "  /* fitted */\n",
              "  background-color: var(--sklearn-color-fitted-level-2);\n",
              "}\n",
              "\n",
              "/* Specification for estimator info (e.g. \"i\" and \"?\") */\n",
              "\n",
              "/* Common style for \"i\" and \"?\" */\n",
              "\n",
              ".sk-estimator-doc-link,\n",
              "a:link.sk-estimator-doc-link,\n",
              "a:visited.sk-estimator-doc-link {\n",
              "  float: right;\n",
              "  font-size: smaller;\n",
              "  line-height: 1em;\n",
              "  font-family: monospace;\n",
              "  background-color: var(--sklearn-color-background);\n",
              "  border-radius: 1em;\n",
              "  height: 1em;\n",
              "  width: 1em;\n",
              "  text-decoration: none !important;\n",
              "  margin-left: 0.5em;\n",
              "  text-align: center;\n",
              "  /* unfitted */\n",
              "  border: var(--sklearn-color-unfitted-level-1) 1pt solid;\n",
              "  color: var(--sklearn-color-unfitted-level-1);\n",
              "}\n",
              "\n",
              ".sk-estimator-doc-link.fitted,\n",
              "a:link.sk-estimator-doc-link.fitted,\n",
              "a:visited.sk-estimator-doc-link.fitted {\n",
              "  /* fitted */\n",
              "  border: var(--sklearn-color-fitted-level-1) 1pt solid;\n",
              "  color: var(--sklearn-color-fitted-level-1);\n",
              "}\n",
              "\n",
              "/* On hover */\n",
              "div.sk-estimator:hover .sk-estimator-doc-link:hover,\n",
              ".sk-estimator-doc-link:hover,\n",
              "div.sk-label-container:hover .sk-estimator-doc-link:hover,\n",
              ".sk-estimator-doc-link:hover {\n",
              "  /* unfitted */\n",
              "  background-color: var(--sklearn-color-unfitted-level-3);\n",
              "  color: var(--sklearn-color-background);\n",
              "  text-decoration: none;\n",
              "}\n",
              "\n",
              "div.sk-estimator.fitted:hover .sk-estimator-doc-link.fitted:hover,\n",
              ".sk-estimator-doc-link.fitted:hover,\n",
              "div.sk-label-container:hover .sk-estimator-doc-link.fitted:hover,\n",
              ".sk-estimator-doc-link.fitted:hover {\n",
              "  /* fitted */\n",
              "  background-color: var(--sklearn-color-fitted-level-3);\n",
              "  color: var(--sklearn-color-background);\n",
              "  text-decoration: none;\n",
              "}\n",
              "\n",
              "/* Span, style for the box shown on hovering the info icon */\n",
              ".sk-estimator-doc-link span {\n",
              "  display: none;\n",
              "  z-index: 9999;\n",
              "  position: relative;\n",
              "  font-weight: normal;\n",
              "  right: .2ex;\n",
              "  padding: .5ex;\n",
              "  margin: .5ex;\n",
              "  width: min-content;\n",
              "  min-width: 20ex;\n",
              "  max-width: 50ex;\n",
              "  color: var(--sklearn-color-text);\n",
              "  box-shadow: 2pt 2pt 4pt #999;\n",
              "  /* unfitted */\n",
              "  background: var(--sklearn-color-unfitted-level-0);\n",
              "  border: .5pt solid var(--sklearn-color-unfitted-level-3);\n",
              "}\n",
              "\n",
              ".sk-estimator-doc-link.fitted span {\n",
              "  /* fitted */\n",
              "  background: var(--sklearn-color-fitted-level-0);\n",
              "  border: var(--sklearn-color-fitted-level-3);\n",
              "}\n",
              "\n",
              ".sk-estimator-doc-link:hover span {\n",
              "  display: block;\n",
              "}\n",
              "\n",
              "/* \"?\"-specific style due to the `<a>` HTML tag */\n",
              "\n",
              "#sk-container-id-2 a.estimator_doc_link {\n",
              "  float: right;\n",
              "  font-size: 1rem;\n",
              "  line-height: 1em;\n",
              "  font-family: monospace;\n",
              "  background-color: var(--sklearn-color-background);\n",
              "  border-radius: 1rem;\n",
              "  height: 1rem;\n",
              "  width: 1rem;\n",
              "  text-decoration: none;\n",
              "  /* unfitted */\n",
              "  color: var(--sklearn-color-unfitted-level-1);\n",
              "  border: var(--sklearn-color-unfitted-level-1) 1pt solid;\n",
              "}\n",
              "\n",
              "#sk-container-id-2 a.estimator_doc_link.fitted {\n",
              "  /* fitted */\n",
              "  border: var(--sklearn-color-fitted-level-1) 1pt solid;\n",
              "  color: var(--sklearn-color-fitted-level-1);\n",
              "}\n",
              "\n",
              "/* On hover */\n",
              "#sk-container-id-2 a.estimator_doc_link:hover {\n",
              "  /* unfitted */\n",
              "  background-color: var(--sklearn-color-unfitted-level-3);\n",
              "  color: var(--sklearn-color-background);\n",
              "  text-decoration: none;\n",
              "}\n",
              "\n",
              "#sk-container-id-2 a.estimator_doc_link.fitted:hover {\n",
              "  /* fitted */\n",
              "  background-color: var(--sklearn-color-fitted-level-3);\n",
              "}\n",
              "</style><div id=\"sk-container-id-2\" class=\"sk-top-container\"><div class=\"sk-text-repr-fallback\"><pre>KNeighborsClassifier(metric=&#x27;euclidean&#x27;, n_neighbors=19, weights=&#x27;distance&#x27;)</pre><b>In a Jupyter environment, please rerun this cell to show the HTML representation or trust the notebook. <br />On GitHub, the HTML representation is unable to render, please try loading this page with nbviewer.org.</b></div><div class=\"sk-container\" hidden><div class=\"sk-item\"><div class=\"sk-estimator fitted sk-toggleable\"><input class=\"sk-toggleable__control sk-hidden--visually\" id=\"sk-estimator-id-2\" type=\"checkbox\" checked><label for=\"sk-estimator-id-2\" class=\"sk-toggleable__label fitted sk-toggleable__label-arrow\"><div><div>KNeighborsClassifier</div></div><div><a class=\"sk-estimator-doc-link fitted\" rel=\"noreferrer\" target=\"_blank\" href=\"https://scikit-learn.org/1.6/modules/generated/sklearn.neighbors.KNeighborsClassifier.html\">?<span>Documentation for KNeighborsClassifier</span></a><span class=\"sk-estimator-doc-link fitted\">i<span>Fitted</span></span></div></label><div class=\"sk-toggleable__content fitted\"><pre>KNeighborsClassifier(metric=&#x27;euclidean&#x27;, n_neighbors=19, weights=&#x27;distance&#x27;)</pre></div> </div></div></div></div>"
            ]
          },
          "metadata": {},
          "execution_count": 23
        }
      ]
    },
    {
      "cell_type": "code",
      "source": [
        "y_pred=knn.predict(X_test)\n",
        "\n",
        "#Generar la matriz de confusión\n",
        "conf_matrix = confusion_matrix(y_test, y_pred)\n",
        "\n",
        "# Imprimir la matriz de confusión\n",
        "print(\"Matriz de confusión:\")\n",
        "print(conf_matrix)\n",
        "\n",
        "# Evaluar el rendimiento del modelo\n",
        "print(f\"Accuracy: {accuracy_score(y_test, y_pred)}\")\n",
        "print(classification_report(y_test, y_pred))"
      ],
      "metadata": {
        "colab": {
          "base_uri": "https://localhost:8080/"
        },
        "id": "Ih7AVUW40bzp",
        "outputId": "de903bc0-0be2-4d75-af21-1d3d2f53a92a"
      },
      "execution_count": 24,
      "outputs": [
        {
          "output_type": "stream",
          "name": "stdout",
          "text": [
            "Matriz de confusión:\n",
            "[[41  5]\n",
            " [11  5]]\n",
            "Accuracy: 0.7419354838709677\n",
            "              precision    recall  f1-score   support\n",
            "\n",
            "           0       0.79      0.89      0.84        46\n",
            "           1       0.50      0.31      0.38        16\n",
            "\n",
            "    accuracy                           0.74        62\n",
            "   macro avg       0.64      0.60      0.61        62\n",
            "weighted avg       0.71      0.74      0.72        62\n",
            "\n"
          ]
        }
      ]
    },
    {
      "cell_type": "markdown",
      "source": [
        "## 6- Conclusiones\n",
        "\n",
        "Fundamente, justifique con sus palabras."
      ],
      "metadata": {
        "id": "xoE8ruwmV50a"
      }
    },
    {
      "cell_type": "markdown",
      "source": [
        "Considero que logre hacer las consignas correctamente, si bien el dataset no tuvo los mejores resultados debido a sus caracteristicas, lo importante fue haber mejorado su rendimiento buscando otra opcion de modelo que me favorecio.\n"
      ],
      "metadata": {
        "id": "ORilD2IS75Fi"
      }
    },
    {
      "cell_type": "markdown",
      "source": [
        "# Referencias\n",
        "\n",
        "Mencione los recursos utilizados"
      ],
      "metadata": {
        "id": "4ZvMj3P89Z4R"
      }
    },
    {
      "cell_type": "markdown",
      "source": [
        "Fui mencionando las veces que use recursos externos como IAs y  material teorico de las clases.\n",
        "\n",
        "**Validacion cruzada**\n",
        "https://scikit-learn.org/stable/modules/cross_validation.html"
      ],
      "metadata": {
        "id": "L2bXWKQ77dqG"
      }
    }
  ]
}
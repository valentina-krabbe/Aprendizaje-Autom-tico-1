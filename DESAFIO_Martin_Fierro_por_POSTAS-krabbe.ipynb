{
  "nbformat": 4,
  "nbformat_minor": 0,
  "metadata": {
    "colab": {
      "provenance": [],
      "include_colab_link": true
    },
    "kernelspec": {
      "name": "python3",
      "display_name": "Python 3"
    },
    "language_info": {
      "name": "python"
    }
  },
  "cells": [
    {
      "cell_type": "markdown",
      "metadata": {
        "id": "view-in-github",
        "colab_type": "text"
      },
      "source": [
        "<a href=\"https://colab.research.google.com/github/valentina-krabbe/Aprendizaje-Autom-tico-1/blob/main/DESAFIO_Martin_Fierro_por_POSTAS-krabbe.ipynb\" target=\"_parent\"><img src=\"https://colab.research.google.com/assets/colab-badge.svg\" alt=\"Open In Colab\"/></a>"
      ]
    },
    {
      "cell_type": "markdown",
      "source": [
        "# TP3 desafío de procesamiento de textos por postas\n",
        "\n"
      ],
      "metadata": {
        "id": "N62btdWrS5hj"
      }
    },
    {
      "cell_type": "markdown",
      "source": [
        "# FORMA DE TRABAJO\n",
        "\n",
        "**PRIMERO LEA EL SIGUIENTE DOCUMENTO**\n",
        "\n",
        "La forma de trabajo se explica en el siguiente documento.\n",
        "\n",
        "https://docs.google.com/document/d/1Yvd9_326qb6imzx-vC16UmGhXGd5NeJEyvr176-Oknc/edit?usp=sharing\n",
        "\n",
        "Lea primero el documento **ANTES** de proceder con el notebook."
      ],
      "metadata": {
        "id": "uFz-OFx3S5tT"
      }
    },
    {
      "cell_type": "markdown",
      "source": [
        "# 1 - Preparación de datos\n",
        "\n"
      ],
      "metadata": {
        "id": "3mqmFzP-TDZn"
      }
    },
    {
      "cell_type": "markdown",
      "source": [
        "## 1A - Configuración del entorno\n",
        "\n",
        "* Instalar las bibliotecas necesarias para el procesamiento de texto\n",
        "* Importar las bibliotecas requeridas\n",
        "* Verificar versiones y disponibilidad\n"
      ],
      "metadata": {
        "id": "d6W6WW9UTK5-"
      }
    },
    {
      "cell_type": "markdown",
      "source": [
        "Instalar bibliotecas necesarias"
      ],
      "metadata": {
        "id": "vJ7MWJ_4TK5_"
      }
    },
    {
      "cell_type": "code",
      "source": [
        "!pip install PyPDF2 nltk spacy matplotlib pandas\n"
      ],
      "metadata": {
        "colab": {
          "base_uri": "https://localhost:8080/"
        },
        "id": "FgD0onkcgkJ0",
        "outputId": "9013659b-9f1d-45e3-f21f-8d4ef657b6c3"
      },
      "execution_count": null,
      "outputs": [
        {
          "output_type": "stream",
          "name": "stdout",
          "text": [
            "Collecting PyPDF2\n",
            "  Downloading pypdf2-3.0.1-py3-none-any.whl.metadata (6.8 kB)\n",
            "Requirement already satisfied: nltk in /usr/local/lib/python3.11/dist-packages (3.9.1)\n",
            "Requirement already satisfied: spacy in /usr/local/lib/python3.11/dist-packages (3.8.5)\n",
            "Requirement already satisfied: matplotlib in /usr/local/lib/python3.11/dist-packages (3.10.0)\n",
            "Requirement already satisfied: pandas in /usr/local/lib/python3.11/dist-packages (2.2.2)\n",
            "Requirement already satisfied: click in /usr/local/lib/python3.11/dist-packages (from nltk) (8.2.0)\n",
            "Requirement already satisfied: joblib in /usr/local/lib/python3.11/dist-packages (from nltk) (1.5.0)\n",
            "Requirement already satisfied: regex>=2021.8.3 in /usr/local/lib/python3.11/dist-packages (from nltk) (2024.11.6)\n",
            "Requirement already satisfied: tqdm in /usr/local/lib/python3.11/dist-packages (from nltk) (4.67.1)\n",
            "Requirement already satisfied: spacy-legacy<3.1.0,>=3.0.11 in /usr/local/lib/python3.11/dist-packages (from spacy) (3.0.12)\n",
            "Requirement already satisfied: spacy-loggers<2.0.0,>=1.0.0 in /usr/local/lib/python3.11/dist-packages (from spacy) (1.0.5)\n",
            "Requirement already satisfied: murmurhash<1.1.0,>=0.28.0 in /usr/local/lib/python3.11/dist-packages (from spacy) (1.0.12)\n",
            "Requirement already satisfied: cymem<2.1.0,>=2.0.2 in /usr/local/lib/python3.11/dist-packages (from spacy) (2.0.11)\n",
            "Requirement already satisfied: preshed<3.1.0,>=3.0.2 in /usr/local/lib/python3.11/dist-packages (from spacy) (3.0.9)\n",
            "Requirement already satisfied: thinc<8.4.0,>=8.3.4 in /usr/local/lib/python3.11/dist-packages (from spacy) (8.3.6)\n",
            "Requirement already satisfied: wasabi<1.2.0,>=0.9.1 in /usr/local/lib/python3.11/dist-packages (from spacy) (1.1.3)\n",
            "Requirement already satisfied: srsly<3.0.0,>=2.4.3 in /usr/local/lib/python3.11/dist-packages (from spacy) (2.5.1)\n",
            "Requirement already satisfied: catalogue<2.1.0,>=2.0.6 in /usr/local/lib/python3.11/dist-packages (from spacy) (2.0.10)\n",
            "Requirement already satisfied: weasel<0.5.0,>=0.1.0 in /usr/local/lib/python3.11/dist-packages (from spacy) (0.4.1)\n",
            "Requirement already satisfied: typer<1.0.0,>=0.3.0 in /usr/local/lib/python3.11/dist-packages (from spacy) (0.15.3)\n",
            "Requirement already satisfied: numpy>=1.19.0 in /usr/local/lib/python3.11/dist-packages (from spacy) (2.0.2)\n",
            "Requirement already satisfied: requests<3.0.0,>=2.13.0 in /usr/local/lib/python3.11/dist-packages (from spacy) (2.32.3)\n",
            "Requirement already satisfied: pydantic!=1.8,!=1.8.1,<3.0.0,>=1.7.4 in /usr/local/lib/python3.11/dist-packages (from spacy) (2.11.4)\n",
            "Requirement already satisfied: jinja2 in /usr/local/lib/python3.11/dist-packages (from spacy) (3.1.6)\n",
            "Requirement already satisfied: setuptools in /usr/local/lib/python3.11/dist-packages (from spacy) (75.2.0)\n",
            "Requirement already satisfied: packaging>=20.0 in /usr/local/lib/python3.11/dist-packages (from spacy) (24.2)\n",
            "Requirement already satisfied: langcodes<4.0.0,>=3.2.0 in /usr/local/lib/python3.11/dist-packages (from spacy) (3.5.0)\n",
            "Requirement already satisfied: contourpy>=1.0.1 in /usr/local/lib/python3.11/dist-packages (from matplotlib) (1.3.2)\n",
            "Requirement already satisfied: cycler>=0.10 in /usr/local/lib/python3.11/dist-packages (from matplotlib) (0.12.1)\n",
            "Requirement already satisfied: fonttools>=4.22.0 in /usr/local/lib/python3.11/dist-packages (from matplotlib) (4.58.0)\n",
            "Requirement already satisfied: kiwisolver>=1.3.1 in /usr/local/lib/python3.11/dist-packages (from matplotlib) (1.4.8)\n",
            "Requirement already satisfied: pillow>=8 in /usr/local/lib/python3.11/dist-packages (from matplotlib) (11.2.1)\n",
            "Requirement already satisfied: pyparsing>=2.3.1 in /usr/local/lib/python3.11/dist-packages (from matplotlib) (3.2.3)\n",
            "Requirement already satisfied: python-dateutil>=2.7 in /usr/local/lib/python3.11/dist-packages (from matplotlib) (2.9.0.post0)\n",
            "Requirement already satisfied: pytz>=2020.1 in /usr/local/lib/python3.11/dist-packages (from pandas) (2025.2)\n",
            "Requirement already satisfied: tzdata>=2022.7 in /usr/local/lib/python3.11/dist-packages (from pandas) (2025.2)\n",
            "Requirement already satisfied: language-data>=1.2 in /usr/local/lib/python3.11/dist-packages (from langcodes<4.0.0,>=3.2.0->spacy) (1.3.0)\n",
            "Requirement already satisfied: annotated-types>=0.6.0 in /usr/local/lib/python3.11/dist-packages (from pydantic!=1.8,!=1.8.1,<3.0.0,>=1.7.4->spacy) (0.7.0)\n",
            "Requirement already satisfied: pydantic-core==2.33.2 in /usr/local/lib/python3.11/dist-packages (from pydantic!=1.8,!=1.8.1,<3.0.0,>=1.7.4->spacy) (2.33.2)\n",
            "Requirement already satisfied: typing-extensions>=4.12.2 in /usr/local/lib/python3.11/dist-packages (from pydantic!=1.8,!=1.8.1,<3.0.0,>=1.7.4->spacy) (4.13.2)\n",
            "Requirement already satisfied: typing-inspection>=0.4.0 in /usr/local/lib/python3.11/dist-packages (from pydantic!=1.8,!=1.8.1,<3.0.0,>=1.7.4->spacy) (0.4.0)\n",
            "Requirement already satisfied: six>=1.5 in /usr/local/lib/python3.11/dist-packages (from python-dateutil>=2.7->matplotlib) (1.17.0)\n",
            "Requirement already satisfied: charset-normalizer<4,>=2 in /usr/local/lib/python3.11/dist-packages (from requests<3.0.0,>=2.13.0->spacy) (3.4.2)\n",
            "Requirement already satisfied: idna<4,>=2.5 in /usr/local/lib/python3.11/dist-packages (from requests<3.0.0,>=2.13.0->spacy) (3.10)\n",
            "Requirement already satisfied: urllib3<3,>=1.21.1 in /usr/local/lib/python3.11/dist-packages (from requests<3.0.0,>=2.13.0->spacy) (2.4.0)\n",
            "Requirement already satisfied: certifi>=2017.4.17 in /usr/local/lib/python3.11/dist-packages (from requests<3.0.0,>=2.13.0->spacy) (2025.4.26)\n",
            "Requirement already satisfied: blis<1.4.0,>=1.3.0 in /usr/local/lib/python3.11/dist-packages (from thinc<8.4.0,>=8.3.4->spacy) (1.3.0)\n",
            "Requirement already satisfied: confection<1.0.0,>=0.0.1 in /usr/local/lib/python3.11/dist-packages (from thinc<8.4.0,>=8.3.4->spacy) (0.1.5)\n",
            "Requirement already satisfied: shellingham>=1.3.0 in /usr/local/lib/python3.11/dist-packages (from typer<1.0.0,>=0.3.0->spacy) (1.5.4)\n",
            "Requirement already satisfied: rich>=10.11.0 in /usr/local/lib/python3.11/dist-packages (from typer<1.0.0,>=0.3.0->spacy) (13.9.4)\n",
            "Requirement already satisfied: cloudpathlib<1.0.0,>=0.7.0 in /usr/local/lib/python3.11/dist-packages (from weasel<0.5.0,>=0.1.0->spacy) (0.21.0)\n",
            "Requirement already satisfied: smart-open<8.0.0,>=5.2.1 in /usr/local/lib/python3.11/dist-packages (from weasel<0.5.0,>=0.1.0->spacy) (7.1.0)\n",
            "Requirement already satisfied: MarkupSafe>=2.0 in /usr/local/lib/python3.11/dist-packages (from jinja2->spacy) (3.0.2)\n",
            "Requirement already satisfied: marisa-trie>=1.1.0 in /usr/local/lib/python3.11/dist-packages (from language-data>=1.2->langcodes<4.0.0,>=3.2.0->spacy) (1.2.1)\n",
            "Requirement already satisfied: markdown-it-py>=2.2.0 in /usr/local/lib/python3.11/dist-packages (from rich>=10.11.0->typer<1.0.0,>=0.3.0->spacy) (3.0.0)\n",
            "Requirement already satisfied: pygments<3.0.0,>=2.13.0 in /usr/local/lib/python3.11/dist-packages (from rich>=10.11.0->typer<1.0.0,>=0.3.0->spacy) (2.19.1)\n",
            "Requirement already satisfied: wrapt in /usr/local/lib/python3.11/dist-packages (from smart-open<8.0.0,>=5.2.1->weasel<0.5.0,>=0.1.0->spacy) (1.17.2)\n",
            "Requirement already satisfied: mdurl~=0.1 in /usr/local/lib/python3.11/dist-packages (from markdown-it-py>=2.2.0->rich>=10.11.0->typer<1.0.0,>=0.3.0->spacy) (0.1.2)\n",
            "Downloading pypdf2-3.0.1-py3-none-any.whl (232 kB)\n",
            "\u001b[2K   \u001b[90m━━━━━━━━━━━━━━━━━━━━━━━━━━━━━━━━━━━━━━━━\u001b[0m \u001b[32m232.6/232.6 kB\u001b[0m \u001b[31m3.1 MB/s\u001b[0m eta \u001b[36m0:00:00\u001b[0m\n",
            "\u001b[?25hInstalling collected packages: PyPDF2\n",
            "Successfully installed PyPDF2-3.0.1\n"
          ]
        }
      ]
    },
    {
      "cell_type": "code",
      "source": [
        "\n",
        "# Importar bibliotecas\n",
        "import PyPDF2\n",
        "import nltk\n",
        "import pandas as pd\n",
        "import matplotlib.pyplot as plt\n"
      ],
      "metadata": {
        "id": "BuA1VhI8gbSb"
      },
      "execution_count": null,
      "outputs": []
    },
    {
      "cell_type": "markdown",
      "source": [
        "## 1B - Descarga del archivo PDF (nombre y apellido de quien resuelve)\n",
        "* Descargar el PDF del libro \"El gaucho Martín Fierro\" desde el enlace proporcionado\n",
        "* Verificar que el archivo se descargó correctamente\n",
        "* Guardar en una variable la ruta al archivo\n",
        "\n"
      ],
      "metadata": {
        "id": "ZKPgr3KBTFlP"
      }
    },
    {
      "cell_type": "markdown",
      "source": [
        "# 2 - Extracción y limpieza de texto\n"
      ],
      "metadata": {
        "id": "tIbPip5GTJWP"
      }
    },
    {
      "cell_type": "markdown",
      "source": [
        "\n",
        "## 2A - Extracción de texto desde PDF (nombre y apellido de quien resuelve)\n",
        "* Abrir el archivo PDF\n",
        "* Extraer el texto completo\n",
        "* Guardar el resultado en una variable `texto_completo`\n",
        "* Mostrar las primeras 500 palabras\n"
      ],
      "metadata": {
        "id": "h7ea3jMSg7rE"
      }
    },
    {
      "cell_type": "markdown",
      "source": [],
      "metadata": {
        "id": "-WbV3b-Xg-R_"
      }
    },
    {
      "cell_type": "code",
      "source": [],
      "metadata": {
        "id": "Aq5AnCuGbU3o"
      },
      "execution_count": null,
      "outputs": []
    },
    {
      "cell_type": "markdown",
      "source": [
        "## 2B - Identificación del contenido relevante (nombre y apellido de quien resuelve)\n",
        "* Analizar el texto para determinar dónde comienza y termina el contenido del libro\n",
        "* Identificar y eliminar índices, prólogos, anexos\n",
        "* Documentar los criterios utilizados para esta selección\n",
        "* Guardar en `texto_libro` solo el contenido del libro\n"
      ],
      "metadata": {
        "id": "2KE3aLUCgzbH"
      }
    },
    {
      "cell_type": "markdown",
      "source": [],
      "metadata": {
        "id": "QfiXCueQhJwx"
      }
    },
    {
      "cell_type": "code",
      "source": [],
      "metadata": {
        "id": "5gfes0oChJT2"
      },
      "execution_count": null,
      "outputs": []
    },
    {
      "cell_type": "markdown",
      "source": [
        "## 2C - Limpieza del texto (nombre y apellido de quien resuelve)\n",
        "* Eliminar caracteres especiales y no deseados\n",
        "* Normalizar espacios, saltos de línea y puntuación\n",
        "* Convertir a minúsculas si es necesario\n",
        "* Guardar en `texto_limpio` el resultado final\n"
      ],
      "metadata": {
        "id": "bV2zyWK3hQmq"
      }
    },
    {
      "cell_type": "markdown",
      "source": [],
      "metadata": {
        "id": "9gx1N9OXhSdI"
      }
    },
    {
      "cell_type": "code",
      "source": [],
      "metadata": {
        "id": "Jaf2IWO7hS6o"
      },
      "execution_count": null,
      "outputs": []
    },
    {
      "cell_type": "markdown",
      "source": [
        "# 3 - Análisis de Stop-words\n",
        "\n",
        "## 3A - Identificación de stop-words (nombre y apellido de quien resuelve)\n",
        "* Tokenizar el texto limpio\n",
        "* Utilizar recursos de NLTK o SpaCy para identificar stop-words en español\n",
        "* Crear una lista `stop_words` con todas las stop-words identificadas\n",
        "* Mostrar las primeras 20 stop-words\n",
        "\n"
      ],
      "metadata": {
        "id": "ONaGp1O2hoXA"
      }
    },
    {
      "cell_type": "markdown",
      "source": [],
      "metadata": {
        "id": "4Ohg8UpdiIUH"
      }
    },
    {
      "cell_type": "code",
      "source": [],
      "metadata": {
        "id": "2JajMfe8ho8d"
      },
      "execution_count": null,
      "outputs": []
    },
    {
      "cell_type": "markdown",
      "source": [
        "## 3B - Análisis de frecuencia de stop-words (nombre y apellido de quien resuelve)\n",
        "* Contar la frecuencia de cada stop-word en el texto\n",
        "* Crear un DataFrame con las stop-words y sus frecuencias\n",
        "* Ordenar por frecuencia descendente\n",
        "* Mostrar las 10 stop-words más frecuentes\n",
        "\n"
      ],
      "metadata": {
        "id": "sfPUlz21iI4s"
      }
    },
    {
      "cell_type": "markdown",
      "source": [],
      "metadata": {
        "id": "QwXOBsjuiKp-"
      }
    },
    {
      "cell_type": "code",
      "source": [],
      "metadata": {
        "id": "l70suvUQiK_t"
      },
      "execution_count": null,
      "outputs": []
    },
    {
      "cell_type": "markdown",
      "source": [
        "## 3C - Visualización de stop-words (nombre y apellido de quien resuelve)\n",
        "* Crear un gráfico de barras con las 15 stop-words más frecuentes\n",
        "* Añadir título y etiquetas a los ejes\n",
        "* Personalizar el aspecto visual del gráfico\n",
        "* Guardar la figura resultante\n",
        "\n"
      ],
      "metadata": {
        "id": "AfRetwZjiQWW"
      }
    },
    {
      "cell_type": "markdown",
      "source": [],
      "metadata": {
        "id": "VJp6i5s7iRs2"
      }
    },
    {
      "cell_type": "code",
      "source": [],
      "metadata": {
        "id": "t0V2_WX7iR9L"
      },
      "execution_count": null,
      "outputs": []
    },
    {
      "cell_type": "markdown",
      "source": [
        "# 4 - Análisis de vocabulario\n",
        "\n",
        "\n"
      ],
      "metadata": {
        "id": "NAqcQVgiiShs"
      }
    },
    {
      "cell_type": "markdown",
      "source": [
        "## 4A - Extracción del vocabulario completo (nombre y apellido de quien resuelve)\n",
        "* Tokenizar el texto limpio\n",
        "* Eliminar las stop-words identificadas en el punto 3\n",
        "* Crear una lista `vocabulario_completo` con todos los tokens resultantes\n",
        "* Mostrar los primeros 30 elementos\n"
      ],
      "metadata": {
        "id": "xFY5CsNRmSzB"
      }
    },
    {
      "cell_type": "markdown",
      "source": [],
      "metadata": {
        "id": "xdFb-NqGicoT"
      }
    },
    {
      "cell_type": "code",
      "source": [],
      "metadata": {
        "id": "lidZmJdiiSzV"
      },
      "execution_count": null,
      "outputs": []
    },
    {
      "cell_type": "markdown",
      "source": [
        "## 4B - Análisis del vocabulario único (nombre y apellido de quien resuelve)\n",
        "* Crear un conjunto con palabras únicas del vocabulario\n",
        "* Almacenar en `vocabulario_unico`\n",
        "* Mostrar la cantidad de palabras únicas vs. total de palabras\n",
        "* Calcular la diversidad léxica (palabras únicas / total)\n",
        "\n"
      ],
      "metadata": {
        "id": "ATtbI8XPieDc"
      }
    },
    {
      "cell_type": "markdown",
      "source": [],
      "metadata": {
        "id": "Z3WERAScipXG"
      }
    },
    {
      "cell_type": "code",
      "source": [],
      "metadata": {
        "id": "sF-SaWwKipoa"
      },
      "execution_count": null,
      "outputs": []
    },
    {
      "cell_type": "markdown",
      "source": [
        "## 4C - Frecuencia del vocabulario (nombre y apellido de quien resuelve)\n",
        "* Contar la frecuencia de cada palabra en el vocabulario\n",
        "* Crear un DataFrame con las palabras y sus frecuencias\n",
        "* Ordenar por frecuencia descendente\n",
        "* Mostrar las 20 palabras más frecuentes\n"
      ],
      "metadata": {
        "id": "WdkZkNEjiuCm"
      }
    },
    {
      "cell_type": "markdown",
      "source": [],
      "metadata": {
        "id": "h4v8sLDCixw0"
      }
    },
    {
      "cell_type": "markdown",
      "source": [
        "## 4D - Sustantivos (nombre y apellido de quien resuelve)\n",
        "\n",
        "Utilizando resultados anteriores:\n",
        "* muestre los sustantivos (NOUN, PROPNOUN) del vocabulario más usados y la cantidad de veces que aparecen.\n",
        "* elabore un diagrama de gráficos de barra."
      ],
      "metadata": {
        "id": "3Zo6awNaolf2"
      }
    },
    {
      "cell_type": "markdown",
      "source": [],
      "metadata": {
        "id": "AgwRQcUQySkd"
      }
    },
    {
      "cell_type": "code",
      "source": [],
      "metadata": {
        "id": "teQQdROpyS1w"
      },
      "execution_count": null,
      "outputs": []
    },
    {
      "cell_type": "code",
      "source": [],
      "metadata": {
        "id": "D_9FJZnKiund"
      },
      "execution_count": null,
      "outputs": []
    },
    {
      "cell_type": "markdown",
      "source": [
        "## 4E- Lugares\n",
        "\n",
        "De lo obtenido de 4B y 4D.\n",
        "\n",
        "* Usar las bibliotecas spacy o nltk para identificar lugares o locaciones que mencione el libro.\n",
        "* Muestre el listado.\n",
        "* Realice una tabla indicando los lugares más mencionados\n"
      ],
      "metadata": {
        "id": "DMPQRqFK5mpi"
      }
    },
    {
      "cell_type": "markdown",
      "source": [
        "## 4F- Personajes\n",
        "\n",
        "De lo obtenido de 4B, 4D, 4E.\n",
        "\n",
        "* Usar las bibliotecas spacy o nltk para identificar personajes (personas, o sustantivos propios).\n",
        "¿ Puede distinguir a los personajes del libro? ¿Podría realizar un preprocesamiento para obtenerlos?\n",
        "\n",
        "* Si a un personaje se lo refiere de más de una manera, liste todas sus referencias.\n"
      ],
      "metadata": {
        "id": "bny5RkqT4qmK"
      }
    },
    {
      "cell_type": "markdown",
      "source": [
        "## 4G - VERBOS (nombre y apellido de quien resuelve)\n",
        "\n",
        "Usando los resultados anteriores, muestre los verbos más utilizados.\n",
        "\n",
        "* Preprocesamiento: ¿cuál pre procesamiento realizaría para quedarse con la raiz del verbo o su infinitivo?\n",
        "* Muestre los verbos más utilizados. Realice un gráfico\n",
        "\n"
      ],
      "metadata": {
        "id": "d91qBbnq4Dd8"
      }
    },
    {
      "cell_type": "markdown",
      "source": [
        "# 5 - Creación del corpus\n"
      ],
      "metadata": {
        "id": "gFyDSOjgi15T"
      }
    },
    {
      "cell_type": "markdown",
      "source": [
        "\n",
        "## 5A - Segmentación en estrofas (nombre y apellido de quien resuelve)\n",
        "* Definir criterios para identificar estrofas en el texto\n",
        "* Crear una función que separe el texto en estrofas\n",
        "* Aplicarla al texto limpio del libro\n",
        "* Guardar en `lista_estrofas` el resultado\n"
      ],
      "metadata": {
        "id": "_cXfislKolh_"
      }
    },
    {
      "cell_type": "markdown",
      "source": [],
      "metadata": {
        "id": "_kVDi7vBi40z"
      }
    },
    {
      "cell_type": "code",
      "source": [],
      "metadata": {
        "id": "Mr_zRWfDi5Gj"
      },
      "execution_count": null,
      "outputs": []
    },
    {
      "cell_type": "markdown",
      "source": [
        "## 5B - Limpieza de estrofas (nombre y apellido de quien resuelve)\n",
        "Revisar el listado de estrofas y el preprocesamiento anterior.\n",
        "\n",
        "* Eliminar estrofas vacías.\n",
        "* Normalizar formato de cada estrofa\n",
        "* Verificar consistencia del corpus\n",
        "* Guardar en `corpus_limpio` el resultado final\n"
      ],
      "metadata": {
        "id": "3LJ2Ugypi9Wf"
      }
    },
    {
      "cell_type": "markdown",
      "source": [],
      "metadata": {
        "id": "AXvdM6XLi-09"
      }
    },
    {
      "cell_type": "code",
      "source": [],
      "metadata": {
        "id": "qZMV1BHMi_El"
      },
      "execution_count": null,
      "outputs": []
    },
    {
      "cell_type": "markdown",
      "source": [
        "## 5C - Análisis básico del corpus (nombre y apellido de quien resuelve)\n",
        "* Calcular estadísticas descriptivas del corpus (cantidad de estrofas, longitud promedio)\n",
        "* Identificar estrofas más largas y más cortas\n",
        "* Visualizar la distribución de longitudes\n",
        "* Guardar esta información para referencia futura\n"
      ],
      "metadata": {
        "id": "XwINj8OejC19"
      }
    },
    {
      "cell_type": "markdown",
      "source": [],
      "metadata": {
        "id": "jH0H-V0SjGfo"
      }
    },
    {
      "cell_type": "code",
      "source": [],
      "metadata": {
        "id": "8vpiqHcajG9d"
      },
      "execution_count": null,
      "outputs": []
    },
    {
      "cell_type": "markdown",
      "source": [
        "# 6 - N-gramas\n",
        "\n"
      ],
      "metadata": {
        "id": "iJ5kGSgGlEuc"
      }
    },
    {
      "cell_type": "markdown",
      "source": [
        "## 6A - Extracción de bigramas (nombre y apellido de quien resuelve)\n",
        "* Crear una función para extraer bigramas del texto limpio\n",
        "* Generar la lista completa de bigramas\n",
        "* Mostrar los 20 bigramas más frecuentes (sin filtrar)\n",
        "* Visualizar en un gráfico de barras\n"
      ],
      "metadata": {
        "id": "D8_30FEglZI1"
      }
    },
    {
      "cell_type": "markdown",
      "source": [],
      "metadata": {
        "id": "NK6V8wxDlUTx"
      }
    },
    {
      "cell_type": "code",
      "source": [],
      "metadata": {
        "id": "PuRLjswKlUn5"
      },
      "execution_count": null,
      "outputs": []
    },
    {
      "cell_type": "markdown",
      "source": [
        "## 6B - Extracción de trigramas (nombre y apellido de quien resuelve)\n",
        "* Crear una función para extraer trigramas del texto limpio\n",
        "* Generar la lista completa de trigramas\n",
        "* Mostrar los 20 trigramas más frecuentes (sin filtrar)\n",
        "* Visualizar en un gráfico de barras\n",
        "\n"
      ],
      "metadata": {
        "id": "zphAs6HglVve"
      }
    },
    {
      "cell_type": "markdown",
      "source": [],
      "metadata": {
        "id": "2uGJ_ztK5kD9"
      }
    },
    {
      "cell_type": "code",
      "source": [],
      "metadata": {
        "id": "18M6-Glx5kq7"
      },
      "execution_count": null,
      "outputs": []
    },
    {
      "cell_type": "markdown",
      "source": [],
      "metadata": {
        "id": "w5aZr9phlgwA"
      }
    },
    {
      "cell_type": "code",
      "source": [],
      "metadata": {
        "id": "nkSoQizNlhF1"
      },
      "execution_count": null,
      "outputs": []
    },
    {
      "cell_type": "markdown",
      "source": [
        "## 6C - Filtrado de n-gramas (nombre y apellido de quien resuelve)\n",
        "* Utilizar la lista de stopwords del punto 3\n",
        "* Crear una función para determinar si un n-grama es significativo\n",
        "* Aplicarla a los bigramas y trigramas de 6A y 6B\n",
        "* Comparar la proporción de n-gramas significativos vs. no significativos\n"
      ],
      "metadata": {
        "id": "9qDMv44rlmiW"
      }
    },
    {
      "cell_type": "markdown",
      "source": [],
      "metadata": {
        "id": "7DYAERQxlpGt"
      }
    },
    {
      "cell_type": "code",
      "source": [],
      "metadata": {
        "id": "RRwgc2XnlpZH"
      },
      "execution_count": null,
      "outputs": []
    },
    {
      "cell_type": "markdown",
      "source": [
        "## 6D - Análisis de n-gramas significativos (nombre y apellido de quien resuelve)\n",
        "* Seleccionar los 15 bigramas y trigramas más significativos\n",
        "* Crear una tabla comparativa\n",
        "* Analizar e interpretar los resultados\n",
        "* Relacionarlos con el contenido del libro\n"
      ],
      "metadata": {
        "id": "PqNh07cXlvpe"
      }
    },
    {
      "cell_type": "markdown",
      "source": [],
      "metadata": {
        "id": "bPpX8ahr4hy9"
      }
    },
    {
      "cell_type": "code",
      "source": [],
      "metadata": {
        "id": "bhK5nUAo4iNV"
      },
      "execution_count": null,
      "outputs": []
    },
    {
      "cell_type": "markdown",
      "source": [
        "## 6E - N-gramas más frecuentes (nombre y apellido de quien resuelve)\n",
        "\n",
        "* Extraiga los bigramas y trigramas más frecuentes del texto.\n",
        "* Elimine aquellos n-gramas que contienen mayoritariamente stop-words.\n",
        "* Presente una tabla con los 15 bigramas y trigramas más significativos.\n",
        "* ¿Qué información adicional aportan estos n-gramas sobre el contenido del libro? Interprete\n"
      ],
      "metadata": {
        "id": "gDdGQEe54i2z"
      }
    },
    {
      "cell_type": "markdown",
      "source": [],
      "metadata": {
        "id": "JJJ9V3wM5nNg"
      }
    },
    {
      "cell_type": "code",
      "source": [],
      "metadata": {
        "id": "do9_fvU65niH"
      },
      "execution_count": null,
      "outputs": []
    },
    {
      "cell_type": "markdown",
      "source": [
        "# 7 - Visualización de relaciones entre personajes (nombre y apellido de quien resuelve)\n",
        "\n",
        "* Utilizando los resultados anteriores (mirar 4E), cree una visualización de red que muestre las relaciones entre los personajes.\n",
        "* Determine la \"cercanía\" entre entidades basándose en la co-ocurrencia en las mismas estrofas.\n",
        "* Presente conclusiones sobre la estructura narrativa del libro basado en esta visualización.\n"
      ],
      "metadata": {
        "id": "TlWAswSrBtdf"
      }
    },
    {
      "cell_type": "markdown",
      "source": [],
      "metadata": {
        "id": "ussno5sRCbo9"
      }
    },
    {
      "cell_type": "code",
      "source": [],
      "metadata": {
        "id": "FQ2DY5MjCb76"
      },
      "execution_count": null,
      "outputs": []
    },
    {
      "cell_type": "markdown",
      "source": [
        "\n",
        "\n",
        "# 8 Matriz TF-IDF\n"
      ],
      "metadata": {
        "id": "UgS2rT8yCupl"
      }
    },
    {
      "cell_type": "markdown",
      "source": [
        "\n",
        "\n",
        "## 8 A - Preparación para TF-IDF (nombre y apellido de quien resuelve)\n",
        "* Importar las bibliotecas necesarias (sklearn)\n",
        "* Crear un vectorizador TF-IDF\n",
        "* Configurar parámetros (stop_words, ngram_range, etc.)\n",
        "* Aplicar el vectorizador al corpus de estrofas\n",
        "* Generar la matriz TF-IDF completa\n",
        "* Extraer vocabulary_ y feature_names_\n",
        "* Mostrar dimensiones de la matriz resultante\n",
        "* Documentar decisiones de configuración\n",
        "\n"
      ],
      "metadata": {
        "id": "b0aSE-30CcP0"
      }
    },
    {
      "cell_type": "markdown",
      "source": [],
      "metadata": {
        "id": "4ClnrP4GDbc3"
      }
    },
    {
      "cell_type": "code",
      "source": [],
      "metadata": {
        "id": "L1KDxQ8iDbvI"
      },
      "execution_count": null,
      "outputs": []
    },
    {
      "cell_type": "markdown",
      "source": [
        "\n",
        "## 8B - Análisis de resultados TF-IDF (nombre y apellido de quien resuelve)\n",
        "* Identificar términos con mayor valor TF-IDF\n",
        "* Calcular TF-IDF promedio por estrofa\n",
        "* Encontrar estrofas con mayor información semántica\n",
        "* Visualizar resultados\n",
        "\n",
        "\n",
        "\n",
        "\n"
      ],
      "metadata": {
        "id": "BseviVuSDcA3"
      }
    },
    {
      "cell_type": "markdown",
      "source": [],
      "metadata": {
        "id": "O3-abMWtDeIm"
      }
    },
    {
      "cell_type": "code",
      "source": [],
      "metadata": {
        "id": "KegQAmDzDegE"
      },
      "execution_count": null,
      "outputs": []
    },
    {
      "cell_type": "markdown",
      "source": [
        "## 8C - TF_IDF visualización y clustering (nombre y apellido de quien resuelve)\n",
        "\n",
        "* Utilizando el corpus creado en el punto 11 y la matriz TF-IDF del punto 12, aplique técnicas de reducción de dimensionalidad (PCA o t-SNE).\n",
        "* Visualice el corpus en un espacio bidimensional.\n",
        "* Identifique clusters o agrupaciones naturales de estrofas.\n",
        "* ¿Qué interpretación puede dar a estos agrupamientos en relación con la narrativa del libro?\n"
      ],
      "metadata": {
        "id": "FyGTXeP3zc34"
      }
    },
    {
      "cell_type": "markdown",
      "source": [],
      "metadata": {
        "id": "GyrrAqcrD3zt"
      }
    },
    {
      "cell_type": "code",
      "source": [],
      "metadata": {
        "id": "7wzPzFKe4px2"
      },
      "execution_count": null,
      "outputs": []
    },
    {
      "cell_type": "markdown",
      "source": [],
      "metadata": {
        "id": "c6Laa2rm5VFE"
      }
    },
    {
      "cell_type": "markdown",
      "source": [
        "# **ACTIVIDADES EXTRA DAN PUNTOS EXTRA**\n",
        "\n",
        "Quien elabore alguna de las siguientes consignas se tendrá en cuenta como puntaje extra o para favorecer su situación para poder regularizar / promocionar.\n",
        "\n"
      ],
      "metadata": {
        "id": "HkeyHNFtFpHs"
      }
    },
    {
      "cell_type": "markdown",
      "source": [
        "# [EXTRA] 9- Topic modeling\n",
        "\n",
        "## 9A - Temática de la obra (nombre y apellido de quien resuelve)\n",
        "\n",
        "* Utilice técnicas de clustering para agrupar estrofas con temáticas similares.\n",
        "* Defina al menos 5 categorías temáticas presentes en el libro.\n",
        "* Asigne cada estrofa a una o más categorías temáticas.\n",
        "* Presente un resumen de la distribución temática y analice qué temas predominan en la obra.\n"
      ],
      "metadata": {
        "id": "okQX5NVrEdlD"
      }
    },
    {
      "cell_type": "markdown",
      "source": [],
      "metadata": {
        "id": "JIYj1aucE1Tt"
      }
    },
    {
      "cell_type": "code",
      "source": [],
      "metadata": {
        "id": "GuVnxNKGE1yx"
      },
      "execution_count": null,
      "outputs": []
    },
    {
      "cell_type": "markdown",
      "source": [
        "# [EXTRA] 10 - Tokenización y segmentación (nombre y apellido de quien resuelve)\n",
        "\n",
        "* Compare al menos dos métodos diferentes de tokenización sobre el texto del Martín Fierro.\n",
        "* Analice las diferencias en los resultados obtenidos, considerando las peculiaridades del español rioplatense y el lenguaje gauchesco.\n",
        "* Identifique palabras o expresiones que presenten desafíos particulares en la tokenización.\n",
        "* Proponga mejoras específicas para el procesamiento de este tipo de texto.\n"
      ],
      "metadata": {
        "id": "D2eEMSqoE2Ye"
      }
    },
    {
      "cell_type": "markdown",
      "source": [],
      "metadata": {
        "id": "r0ul6-WWFCID"
      }
    },
    {
      "cell_type": "code",
      "source": [],
      "metadata": {
        "id": "-kFw3dRbFCcK"
      },
      "execution_count": null,
      "outputs": []
    },
    {
      "cell_type": "markdown",
      "source": [
        "#[EXTRA] 11 - Análisis diacrónico (nombre y apellido de quien resuelve)\n",
        "\n",
        "* Divida el libro en secciones (por ejemplo, por capítulos o cada 50 estrofas) y analice cómo evoluciona el vocabulario a lo largo del texto.\n",
        "* ¿Hay palabras que aparecen predominantemente en ciertas secciones?\n",
        "* ¿Cambia el tono o la temática a lo largo de la obra? Evidencie con datos.\n",
        "* Realice una visualización que muestre esta evolución.\n"
      ],
      "metadata": {
        "id": "AE1STD0sFDXq"
      }
    },
    {
      "cell_type": "markdown",
      "source": [],
      "metadata": {
        "id": "IPS3Xz3qFDpw"
      }
    },
    {
      "cell_type": "markdown",
      "source": [],
      "metadata": {
        "id": "iDjHNJZ1Fdyo"
      }
    },
    {
      "cell_type": "code",
      "source": [],
      "metadata": {
        "id": "XFQsgqXSFeHP"
      },
      "execution_count": null,
      "outputs": []
    },
    {
      "cell_type": "markdown",
      "source": [
        "#[EXTRA] 12 - Detección de modismos y lenguaje figurado (nombre y apellido de quien resuelve)\n",
        "\n",
        "* Identifique expresiones idiomáticas, metáforas, o lenguaje figurado presentes en el texto.\n",
        "* Elabore un glosario de términos gauchescos con sus posibles significados.\n",
        "* ¿Qué desafíos presentan estas expresiones para el procesamiento automático del lenguaje?\n",
        "* Proponga estrategias para abordar estos desafíos en futuros análisis.\n"
      ],
      "metadata": {
        "id": "iLfGJtgRFeuU"
      }
    },
    {
      "cell_type": "markdown",
      "source": [],
      "metadata": {
        "id": "xaiG7awsFngi"
      }
    },
    {
      "cell_type": "code",
      "source": [],
      "metadata": {
        "id": "G3WslZ3zFn0h"
      },
      "execution_count": null,
      "outputs": []
    },
    {
      "cell_type": "markdown",
      "source": [],
      "metadata": {
        "id": "-M-chZWzGHZG"
      }
    },
    {
      "cell_type": "markdown",
      "source": [
        "# [EXTRA] [BONUS] - Análisis comparativo: Martin Fierro y Fausto (nombre y apellido de quien resuelve)\n",
        "\n",
        "* Compare el vocabulario y estilo del Martín Fierro con otro texto de la literatura gauchesca, por ejemplo el Fausto de Estanislao Lopez.\n",
        "* Identifique similitudes y diferencias en el uso del lenguaje.\n",
        "* ¿Qué características lingüísticas son propias del Martín Fierro?\n",
        "* Presente sus conclusiones con evidencia cuantitativa.\n"
      ],
      "metadata": {
        "id": "GsTzcmhuGTKc"
      }
    },
    {
      "cell_type": "markdown",
      "source": [],
      "metadata": {
        "id": "f3ZmoFG4Gmt_"
      }
    },
    {
      "cell_type": "code",
      "source": [],
      "metadata": {
        "id": "m5i3gJ1iGnIf"
      },
      "execution_count": null,
      "outputs": []
    }
  ]
}